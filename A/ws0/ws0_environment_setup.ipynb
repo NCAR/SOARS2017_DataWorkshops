{
 "cells": [
  {
   "cell_type": "markdown",
   "metadata": {},
   "source": [
    "## ENVIRONMENT SETUP\n",
    "To get started, you will need to set up your environment.  We will be using the programming language **Python**, and a very popular distribution of libraries called **Anaconda**.  We will be installing Python 3.6 and Anaconda 4.3.1, but before we do we will need to install Python 3.6.  To recap, we will be using:\n",
    "\n",
    "* [Python 3.6.1](https://www.python.org/downloads/release/python-361/) \n",
    "* [Anaconda 4.3.1](https://www.continuum.io/downloads)\n",
    "\n",
    "**Note:** These must be _installed in this order_  for you to get the environment set up properly.\n",
    "\n",
    "#### OPTIONAL PYTHON EDITORS\n",
    "\n",
    "While we won't need it much in this workshop, you can install a number of editors if you want to write standalone Python programs.  These are **optional** and we will not work with any of them extensively, but they are nice to know about if you have time to play:\n",
    "\n",
    "| Editor | Platforms | Description |\n",
    "|--------|----------|-------------|\n",
    "|[Jetbrains PyCharm Community Edition (CE)](https://www.jetbrains.com/pycharm/)| Win, OSX, Linux | One of the best free, open source editors for Python.  It has a professional / commercial version which expands the feature set further. |\n",
    "|[Spyder (The Scientific PYthon Development EnviRonment)](https://github.com/spyder-ide/spyder) | Win, OSX, Linux | A very good free, open source editor for Python scientific work. |\n",
    "|[Atom](https://atom.io) | Win, OSX, Linux | A popular extensible multi-language text editor with support and plugins for a variety of languages. |\n",
    "|[Notepad++](https://notepad-plus-plus.org) | Win | A basic free text editor for Windows with a lot of add-ons and plugins. |"
   ]
  },
  {
   "cell_type": "markdown",
   "metadata": {},
   "source": [
    "### INSTALLING PYTHON 3.6.1\n",
    "Visit the Python downloads page [https://www.python.org/downloads/](https://www.python.org/downloads/) and select the 3.6.1 download link.\n",
    "\n",
    "![](./assets/opera_2017-04-05_10-44-07.png)\n",
    "\n",
    "After selecting the download link scroll down the page to the 'Files' section and choose the installer for your machine:\n",
    "\n",
    "![](./assets/2017-04-05_10-53-58.gif)"
   ]
  },
  {
   "cell_type": "markdown",
   "metadata": {},
   "source": [
    "### TESTING YOUR PYTHON INSTALLATION\n",
    "\n",
    "Test your installation by opening a DOS window on Windows or a Terminal window on OSX (or Linux).  Type:\n",
    "\n",
    "```python\n",
    "python\n",
    "```\n",
    "\n",
    "You should see the Python interpreter start and the first line should indicate version 3.6.1 is running:\n",
    "\n",
    "![](./assets/cmd_2017-04-05_12-48-22.png)\n",
    "\n",
    "Type `exit()` and hit return to go back to your DOS / shell command prompt."
   ]
  },
  {
   "cell_type": "markdown",
   "metadata": {},
   "source": [
    "### TESTING YOUR ANACONDA INSTALLATION\n",
    "\n",
    "The easiest way to test Anaconda is to try to run [Jupyter Notebooks](https://jupyter.org) which we will be using throughout this workshop.\n",
    "\n",
    "Simply type \n",
    "\n",
    "```python\n",
    "jupyter notebook\n",
    "``` \n",
    "\n",
    "at the DOS / shell command prompt and you should see something like the following:\n",
    "\n",
    "![](./assets/cmd_2017-04-05_12-55-18.png)\n",
    "\n",
    "You might also see a browser window pop up, but the best way to test Jupyter is to open a browser and type `localhost:8888` into the address bar.\n",
    "\n",
    "You should see something like :\n",
    "\n",
    "![](./assets/opera_2017-04-05_12-58-27.png)"
   ]
  },
  {
   "cell_type": "markdown",
   "metadata": {},
   "source": [
    "## CREATE A PLACE FOR YOUR WORK TO LIVE\n",
    "\n",
    "You will need to make a place for your work to live over the course of the summer.  It is recommended you create a separate folder or directory on your file system on your computer in a place that you will remember and can come back to often.\n",
    "\n",
    "**ON WINDOWS**\n",
    "\n",
    "A good place to put your work for the summer is in your `My Documents` library or on your `Desktop`.  Simply create a folder named `SOARS2017DW` to indicate this is your SOARS 2017 Data Science Workshops folder.\n",
    "\n",
    "**ON MAC/OSX**\n",
    "\n",
    "You can put your work on your `Desktop` or in a locally accessible folder - simply create a folder like `SOARS2017DW` above."
   ]
  }
 ],
 "metadata": {
  "anaconda-cloud": {},
  "kernelspec": {
   "display_name": "Python 3",
   "language": "python",
   "name": "python3"
  },
  "language_info": {
   "codemirror_mode": {
    "name": "ipython",
    "version": 3
   },
   "file_extension": ".py",
   "mimetype": "text/x-python",
   "name": "python",
   "nbconvert_exporter": "python",
   "pygments_lexer": "ipython3",
   "version": "3.6.0"
  },
  "toc": {
   "colors": {
    "hover_highlight": "#DAA520",
    "navigate_num": "#000000",
    "navigate_text": "#333333",
    "running_highlight": "#FF0000",
    "selected_highlight": "#FFD700",
    "sidebar_border": "#EEEEEE",
    "wrapper_background": "#FFFFFF"
   },
   "moveMenuLeft": true,
   "nav_menu": {
    "height": "137px",
    "width": "252px"
   },
   "navigate_menu": true,
   "number_sections": false,
   "sideBar": true,
   "threshold": 4,
   "toc_cell": false,
   "toc_section_display": "block",
   "toc_window_display": true,
   "widenNotebook": false
  }
 },
 "nbformat": 4,
 "nbformat_minor": 0
}
