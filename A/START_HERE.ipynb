{
 "cells": [
  {
   "cell_type": "markdown",
   "metadata": {},
   "source": [
    "# SOARS 2017 Data Workshops"
   ]
  },
  {
   "cell_type": "markdown",
   "metadata": {},
   "source": [
    "\n",
    "# [Workshop 1 : PYTHON FUNDAMENTALS](http://nbviewer.jupyter.org/github/NCAR/SOARS2017_DataWorkshops/tree/master/A/ws1/ws01a_overview.ipynb)\n",
    "\n",
    "We cover the fundamentals of Python in the Juptyer Notebooks environment.  In this workshop we explore Python 3.6.1 and the basic concepts of the language including variables, loops, data types and functions.  We will do hands on explorations within Jupyter Notebooks so that the concepts are more easily understood.\n",
    "\n",
    "## Prerequisites\n",
    "* verified installation of Python 3.6.1\n",
    "* verified installation of Anaconda 4.3.1\n",
    "\n",
    "## Objectives\n",
    "\n",
    "* Understand and use the basic operations of the Jupyter Notebook environment\n",
    "* Understand basic Python language constructs such as:\n",
    "    * variables (names)\n",
    "    * loops\n",
    "    * data types (int, float, strings, lists, etc.)\n",
    "    * functions\n",
    "* Write basic Python programs with the core constructs using Jupyter\n",
    "* Understand and use the basic operations of the Jupyter Notebook environment\n",
    "* (optional) Gain exposure to git and Github\n",
    "\n",
    "## Resources\n",
    "\n",
    "* [Installing Python and Anaconda](./ws0/)\n",
    "* Python 3 official [documentation and reference site](https://docs.python.org/3/)\n",
    "* Jupyter Notebooks official [documentation](http://jupyter-notebook.readthedocs.io/en/latest/)\n",
    "* Python `csv` library [documentation](https://docs.python.org/3/library/csv.html)\n",
    "\n",
    "# [Workshop 2 : DATA WRANGLING IN PYTHON](http://nbviewer.jupyter.org/github/NCAR/SOARS2017_DataWorkshops/tree/master/A/ws2/ws02_pandas_intro.ipynb)\n",
    "\n",
    "## Prerequisites\n",
    "* [Pandas](http://pandas.pydata.org/pandas-docs/stable/) library installed with Anaconda\n",
    "* Basic understanding of Python lists, dictionaries and sets\n",
    "* Some understanding of matrices\n",
    "* Jupyter Notebooks\n",
    "* some data files in CSV and Excel format\n",
    "\n",
    "## Objectives\n",
    "\n",
    "* Understand the basic concepts in Pandas for importing data\n",
    "* Understand basic Pandas Series and Dataframe constructs \n",
    "* Write basic Python programs with Pandas in Jupyter, using functions for summarizing, manipulating and exporting (saving) data\n",
    "* Build a basic plot of data using Pandas plotting functions\n",
    "\n",
    "## Resources\n",
    "\n",
    "* [Pandas](http://pandas.pydata.org/) (Python Data Analysis Library)\n",
    "* [Pandas Cheat Sheet at DataCamp.com](https://www.datacamp.com/community/blog/python-pandas-cheat-sheet#gs.Umh8xyc) (as [pdf](https://s3.amazonaws.com/assets.datacamp.com/blog_assets/PandasPythonForDataScience.pdf))\n",
    "* [Data Wrangling with Python](https://github.com/ben519/DataWrangling/blob/master/Python/README.md) (Github repo)\n",
    "* [Data Wrangling with Python: Tips and Tools to Make Your Life Easier](http://shop.oreilly.com/product/0636920032861.do) (Book)\n",
    "* [Gallery of Jupyter Notebooks](http://nb.bianp.net/sort/views/) from basic to advanced\n",
    "\n",
    "\n",
    "# [Workshop 3: HANDS ON REAL WORLD DATA ANALYSIS](http://nbviewer.jupyter.org/github/NCAR/SOARS2017_DataWorkshops/blob/master/A/ws3/ws03_data_exploration.ipynb)\n",
    "\n",
    "## Prerequisites\n",
    "* installation of the Python library [netcdf4](https://unidata.github.io/netcdf4-python/)\n",
    "* installation of [MetPy](https://github.com/Unidata/MetPy)\n",
    "* installation of [Cartopy](http://scitools.org.uk/cartopy/)\n",
    "* a NetDCF file \n",
    "\n",
    "## Objectives\n",
    "\n",
    "* Get hands on experience with real world data\n",
    "* work through a hands on analysis of NetCDF data using Cartopy and MetPy\n",
    "\n",
    "## Resources\n",
    "* [netcdf4](https://unidata.github.io/netcdf4-python/) - A python package for reading netCDF files\n",
    "* [Cartopy](http://scitools.org.uk/cartopy/) - A python package for building maps and visualizations\n",
    "* [MetPy](https://unidata.github.io/MetPy/) - A Python Package for Meteorological Data\n",
    "* [Johnny Lin's Hand's On Intro to Python in Atmospheric Sciences](http://www.johnny-lin.com/pyintro/) | [e-Book Version ($5.00)](https://www.lulu.com/shop/view-cart.ep)\n",
    "* [A crash course in python for climate scientists](http://web.maths.unsw.edu.au/~oangelil/blog/blog4/Python_Crash_Course.pdf)\n",
    "* [pyBKB_v2 - Python scripts that help me be a successfull meteorologist](https://github.com/blaylockbk/pyBKB_v2)\n"
   ]
  }
 ],
 "metadata": {
  "kernelspec": {
   "display_name": "Python 3",
   "language": "python",
   "name": "python3"
  },
  "language_info": {
   "codemirror_mode": {
    "name": "ipython",
    "version": 3
   },
   "file_extension": ".py",
   "mimetype": "text/x-python",
   "name": "python",
   "nbconvert_exporter": "python",
   "pygments_lexer": "ipython3",
   "version": "3.6.0"
  },
  "toc": {
   "colors": {
    "hover_highlight": "#DAA520",
    "navigate_num": "#000000",
    "navigate_text": "#333333",
    "running_highlight": "#FF0000",
    "selected_highlight": "#FFD700",
    "sidebar_border": "#EEEEEE",
    "wrapper_background": "#FFFFFF"
   },
   "moveMenuLeft": true,
   "nav_menu": {
    "height": "261px",
    "width": "252px"
   },
   "navigate_menu": true,
   "number_sections": false,
   "sideBar": true,
   "threshold": 4,
   "toc_cell": false,
   "toc_section_display": "block",
   "toc_window_display": true,
   "widenNotebook": false
  }
 },
 "nbformat": 4,
 "nbformat_minor": 2
}
