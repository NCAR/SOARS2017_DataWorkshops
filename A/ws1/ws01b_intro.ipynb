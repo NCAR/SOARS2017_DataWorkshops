{
 "cells": [
  {
   "cell_type": "markdown",
   "metadata": {
    "nbpresent": {
     "id": "772a8e6d-32eb-4514-b349-d01114127588"
    }
   },
   "source": [
    "# WORKSHOP 1 / Python: A Quick Introduction\n",
    "\n",
    "**WORKSHOP NAVIGATION**\n",
    "\n",
    "---\n",
    "* **A quick introduction to Python**\n",
    "* [Python string basics](ws01c_strings.ipynb)\n",
    "* [A quick tour of working with files](ws01d_files.ipynb)\n",
    "* [Jupyter: A flyby introduction](ws01e_jupyter.ipynb)\n",
    "* [Introduction to Github](ws01f_github.ipynb)\n",
    "---\n",
    "**CONTENTS OF THIS FILE**\n",
    " <p><div class=\"lev1 toc-item\"><a href=\"#WORKSHOP-1-/-Python:-A-Quick-Introduction\" data-toc-modified-id=\"WORKSHOP-1-/-Python:-A-Quick-Introduction-1\"><span class=\"toc-item-num\">1&nbsp;&nbsp;</span>WORKSHOP 1 / Python: A Quick Introduction</a></div><div class=\"lev2 toc-item\"><a href=\"#The-Python-Language\" data-toc-modified-id=\"The-Python-Language-11\"><span class=\"toc-item-num\">1.1&nbsp;&nbsp;</span>The Python Language</a></div><div class=\"lev2 toc-item\"><a href=\"#What-Python-is-about-...\" data-toc-modified-id=\"What-Python-is-about-...-12\"><span class=\"toc-item-num\">1.2&nbsp;&nbsp;</span>What Python is about ...</a></div><div class=\"lev2 toc-item\"><a href=\"#Basic-Data-Types\" data-toc-modified-id=\"Basic-Data-Types-13\"><span class=\"toc-item-num\">1.3&nbsp;&nbsp;</span>Basic Data Types</a></div><div class=\"lev3 toc-item\"><a href=\"#Integers-and-Floats\" data-toc-modified-id=\"Integers-and-Floats-131\"><span class=\"toc-item-num\">1.3.1&nbsp;&nbsp;</span>Integers and Floats</a></div><div class=\"lev3 toc-item\"><a href=\"#Strings\" data-toc-modified-id=\"Strings-132\"><span class=\"toc-item-num\">1.3.2&nbsp;&nbsp;</span>Strings</a></div><div class=\"lev2 toc-item\"><a href=\"#Data-Structures\" data-toc-modified-id=\"Data-Structures-14\"><span class=\"toc-item-num\">1.4&nbsp;&nbsp;</span>Data Structures</a></div><div class=\"lev3 toc-item\"><a href=\"#Tuples\" data-toc-modified-id=\"Tuples-141\"><span class=\"toc-item-num\">1.4.1&nbsp;&nbsp;</span>Tuples</a></div><div class=\"lev3 toc-item\"><a href=\"#Lists\" data-toc-modified-id=\"Lists-142\"><span class=\"toc-item-num\">1.4.2&nbsp;&nbsp;</span>Lists</a></div><div class=\"lev3 toc-item\"><a href=\"#Dictionaries\" data-toc-modified-id=\"Dictionaries-143\"><span class=\"toc-item-num\">1.4.3&nbsp;&nbsp;</span>Dictionaries</a></div><div class=\"lev4 toc-item\"><a href=\"#Initialization\" data-toc-modified-id=\"Initialization-1431\"><span class=\"toc-item-num\">1.4.3.1&nbsp;&nbsp;</span>Initialization</a></div><div class=\"lev4 toc-item\"><a href=\"#Data-access\" data-toc-modified-id=\"Data-access-1432\"><span class=\"toc-item-num\">1.4.3.2&nbsp;&nbsp;</span>Data access</a></div><div class=\"lev2 toc-item\"><a href=\"#Operating-over-data-structures\" data-toc-modified-id=\"Operating-over-data-structures-15\"><span class=\"toc-item-num\">1.5&nbsp;&nbsp;</span>Operating over data structures</a></div>\n",
    " \n",
    "---"
   ]
  },
  {
   "cell_type": "markdown",
   "metadata": {
    "nbpresent": {
     "id": "48c71be9-5f0b-4a7d-9661-a9bc831b8bb4"
    }
   },
   "source": [
    "## The Python Language\n",
    "Python is one of the languages of choice these days for many of the data science and analytics tasks we're faced with on a day-to-day basis.  There is a basic assumption that you have had _some_ exposure to at least _one_ programming language, but if you need to brush up on some basic concepts, check out the [workshop resources page](../resources.ipynb) for more places to learn about Python.\n",
    "\n",
    "To get started, let's review Python Primer and will go over the **very basics** of the language and get your feet we in what it is all about and what it can do."
   ]
  },
  {
   "cell_type": "markdown",
   "metadata": {
    "nbpresent": {
     "id": "63f83d43-a9ce-4f7a-a058-33923b003f74"
    }
   },
   "source": [
    "## What Python is about ...\n",
    "First and foremost, Python is about readability.  You will soon find out that what makes Python interesting is _not_ its syntax.  Python is about expressing your ideas in the most direct way you can, and this is often counter to languages you may have worked with before.  If it looks that simple ... in Python, you must accept that truth and move on.  You will soon accept many truths of simplicity that you have been ignoring ... and you just might fall for Python as many, many others have.\n",
    "\n",
    "## Basic Data Types\n",
    "\n",
    "### Integers and Floats\n",
    "As with almost all languages, support for numbers (integers, floats and others) is basic to the operation of the language.  In Python, you'll need to know about **integers**,\n"
   ]
  },
  {
   "cell_type": "code",
   "execution_count": 1,
   "metadata": {
    "collapsed": true,
    "nbpresent": {
     "id": "f6ad9b6d-985f-4c2b-b965-3f69c0e473b6"
    }
   },
   "outputs": [],
   "source": [
    "# this is an integer\n",
    "silly_integer = 1\n",
    "\n",
    "another_silly_integer = 129834"
   ]
  },
  {
   "cell_type": "markdown",
   "metadata": {
    "nbpresent": {
     "id": "0055ff9d-5e1e-49a5-81e6-91c835a3282d"
    }
   },
   "source": [
    "When you need a little more precision, you will want to work with **floating point** numbers.  So if you need a decimal in your number, try\n"
   ]
  },
  {
   "cell_type": "code",
   "execution_count": 2,
   "metadata": {
    "collapsed": false,
    "nbpresent": {
     "id": "7e28cbf9-590d-413c-9a87-aca55b2ade2a"
    }
   },
   "outputs": [
    {
     "name": "stdout",
     "output_type": "stream",
     "text": [
      "1.01\n",
      "1\n",
      "1.0\n"
     ]
    }
   ],
   "source": [
    "# this is a float\n",
    "silly_float = 1.01\n",
    "\n",
    "# if you need a float\n",
    "another_silly_float = 1.\n",
    "\n",
    "# and another ...\n",
    "more_interesting_float = 78.23479478099\n",
    "\n",
    "print(silly_float)\n",
    "print(silly_integer)\n",
    "print(another_silly_float)"
   ]
  },
  {
   "cell_type": "markdown",
   "metadata": {
    "nbpresent": {
     "id": "ed0f4e5b-2df4-488f-a0f0-5ca4e9e67d9b"
    }
   },
   "source": [
    "Intuitively, adding, subtracting and doing math operations work as expected :"
   ]
  },
  {
   "cell_type": "code",
   "execution_count": 3,
   "metadata": {
    "collapsed": false,
    "nbpresent": {
     "id": "40c4391c-e11c-46cb-bfc7-edc379f175f5"
    }
   },
   "outputs": [
    {
     "name": "stdout",
     "output_type": "stream",
     "text": [
      "2.25\n",
      "0.8\n"
     ]
    }
   ],
   "source": [
    "a = 1\n",
    "b = 1.25\n",
    "c = a + b\n",
    "print(c) # ==> 2.25 as expected\n",
    "\n",
    "c = a / b\n",
    "print(c) # ==> 0.8 as expected"
   ]
  },
  {
   "cell_type": "markdown",
   "metadata": {
    "nbpresent": {
     "id": "ece35f53-5e29-4b4d-89b4-5c720d33dbc4"
    }
   },
   "source": [
    "### Strings\n",
    "Strings are again, another crucial type built in to almost all languages.  In Python, they work as expected:"
   ]
  },
  {
   "cell_type": "code",
   "execution_count": 4,
   "metadata": {
    "collapsed": false,
    "nbpresent": {
     "id": "a6c87074-c0ad-478b-baad-bc316710b3cd"
    }
   },
   "outputs": [
    {
     "name": "stdout",
     "output_type": "stream",
     "text": [
      "Bob\n",
      "Jones\n"
     ]
    }
   ],
   "source": [
    "first_name = \"Bob\"\n",
    "last_name = \"Jones\"\n",
    "\n",
    "print(first_name)\n",
    "print(last_name)"
   ]
  },
  {
   "cell_type": "markdown",
   "metadata": {
    "nbpresent": {
     "id": "814d5e90-f015-46b1-b460-201691b9a040"
    }
   },
   "source": [
    "To take two strings and concatenate them (merge 2 or more strings together end-to-end):"
   ]
  },
  {
   "cell_type": "code",
   "execution_count": 5,
   "metadata": {
    "collapsed": false,
    "nbpresent": {
     "id": "e753c7d4-42a1-4e3c-9230-428fff77f05a"
    }
   },
   "outputs": [
    {
     "name": "stdout",
     "output_type": "stream",
     "text": [
      "BobJones\n",
      "Bob Jones\n"
     ]
    }
   ],
   "source": [
    "fullname = first_name + last_name\n",
    "print(fullname) # ==> \"BobJones\"\n",
    "\n",
    "fullname = first_name + \" \" + last_name\n",
    "print(fullname) # ==> \"Bob Jones\""
   ]
  },
  {
   "cell_type": "markdown",
   "metadata": {
    "nbpresent": {
     "id": "2114649d-91b8-44af-bc0b-783e9b04a1a8"
    }
   },
   "source": [
    "Later we will learn about some other useful operations on strings.\n",
    "\n",
    "\n",
    "## Data Structures\n",
    "As a [Padawan](http://starwars.wikia.com/wiki/Padawan) learner there are three data structures you will need to know well:\n",
    "\n",
    "* tuples,\n",
    "* lists, and\n",
    "* dictionaries.\n",
    "\n",
    "### Tuples\n",
    "A tuple is a sequence of items that do not have to be of the same type, that is you can have a tuple of all integers, but you can equally have a tuple of integers, strings and floats together (unlike what you may be used to in other languages where everything in your data structures must be of the same type).  What makes tuples special is that they can't be changed, and this characteristic is referred to as \"immutable\".  Once you assign a tuple to its data, to cannot add or remove data from that tuple."
   ]
  },
  {
   "cell_type": "code",
   "execution_count": 6,
   "metadata": {
    "collapsed": false,
    "nbpresent": {
     "id": "3311fee6-d2ec-4032-a978-f969016a7a3a"
    }
   },
   "outputs": [
    {
     "name": "stdout",
     "output_type": "stream",
     "text": [
      "(1, 2, 1, 4, 5)\n"
     ]
    }
   ],
   "source": [
    "# this is an empty tuple\n",
    "tpl = ()\n",
    "\n",
    "# you can make your tuple by initializing a new one with what you want\n",
    "tpl1 = (1, 2, 1)\n",
    "\n",
    "# you can also make a new tuple from existing tuples\n",
    "tpl2 = (4, 5)\n",
    "tpl3 = tpl1 + tpl2 # ==> (1, 2, 1, 4, 5)\n",
    "\n",
    "print(tpl3)"
   ]
  },
  {
   "cell_type": "markdown",
   "metadata": {
    "nbpresent": {
     "id": "36e7614f-9ce5-4a18-a6eb-39b9a1e17900"
    }
   },
   "source": [
    "Tuples can contain whatever you'd like: numbers, strings, other objects (lists, dicts, other tuples), etc.  And you can mix and match."
   ]
  },
  {
   "cell_type": "code",
   "execution_count": 7,
   "metadata": {
    "collapsed": false,
    "nbpresent": {
     "id": "0cbdf2ec-af2f-407b-b3c3-3229b17d47cc"
    }
   },
   "outputs": [],
   "source": [
    "# a tuple of strings\n",
    "tpl1 = (\"you\", \"are\", \"here\")\n",
    "\n",
    "# heterogeneous tuples ...\n",
    "tpl2 = (1, \"you\", (0, 0, 0))\n",
    "\n",
    "tpl3 = (1, [\"fred\", \"bob\"], (3, 2))"
   ]
  },
  {
   "cell_type": "markdown",
   "metadata": {
    "nbpresent": {
     "id": "e86a4acf-d518-4b45-944b-1b1833ae0d9d"
    }
   },
   "source": [
    "### Lists\n",
    "Lists are fun, they too are sequences like tuples, but unlike tuples, they can be changed are are therefore called \"mutable\".  Lists often commonly contain data of the same type, but don't have to."
   ]
  },
  {
   "cell_type": "code",
   "execution_count": 8,
   "metadata": {
    "collapsed": false,
    "nbpresent": {
     "id": "8dc4d2d3-0123-4cb1-9b83-be06a5db8748"
    }
   },
   "outputs": [],
   "source": [
    "# this is an empty list\n",
    "lst = []\n",
    "\n",
    "# this is a list with a single item\n",
    "lst = [1]\n",
    "\n",
    "# this is a list with several items\n",
    "lst = [1, 2, 3, 4]\n",
    "\n",
    "# but a list can contain just about anything ... including other lists\n",
    "lst = [[1, 2, 3],[1],[4, [5, 6], 7]]"
   ]
  },
  {
   "cell_type": "markdown",
   "metadata": {
    "nbpresent": {
     "id": "4f838b9a-6921-468d-bbab-383a3b333956"
    }
   },
   "source": [
    "### Dictionaries\n",
    "\n",
    "Dictionaries are even more fun - they are a _mapping type_ and contain a _key_ which maps to a _value_. A Python dictionary is not unlike a _real_ dictionary except in a Python dictionary you can only have a single unique key mapping, thus _unlike_ a real dictionary, the word \"book\" will only have a single entry in a Python \"dictionary\".  Furthermore, the dictionary value can be nearly anything - another dictionary, list, etc.\n",
    "\n",
    "\n",
    "#### Initialization\n",
    "There are a variety of ways to make dictionaries:\n"
   ]
  },
  {
   "cell_type": "code",
   "execution_count": 9,
   "metadata": {
    "collapsed": false,
    "nbpresent": {
     "id": "b1157146-b6d5-4a82-8c33-ceaf08f535a4"
    }
   },
   "outputs": [
    {
     "name": "stdout",
     "output_type": "stream",
     "text": [
      "{'a': 1, 'b': [1, 2], 'c': {'book': 0}, 'd': {'cat': 'dog'}}\n"
     ]
    }
   ],
   "source": [
    "# this is an empty dictionary\n",
    "dct = {}\n",
    "\n",
    "# this is a dictionary with a single key as a string and an integer value\n",
    "dct = {'book': 0}\n",
    "\n",
    "# here is another way to make a dictionary with a list of tuples\n",
    "dct = dict([('book', 0)])\n",
    "\n",
    "# and a really nice way to make a dictionary\n",
    "dct = dict(a=1, b=[1, 2], c={'book': 0}, d={'cat': 'dog'})\n",
    "\n",
    "print(dct)"
   ]
  },
  {
   "cell_type": "markdown",
   "metadata": {
    "nbpresent": {
     "id": "299c4998-14de-4d36-b8b2-c877f6683922"
    }
   },
   "source": [
    "#### Data access\n",
    "Accessing a dictionary is easy by just referencing the key whose value you'd like to access:\n"
   ]
  },
  {
   "cell_type": "code",
   "execution_count": 10,
   "metadata": {
    "collapsed": false,
    "nbpresent": {
     "id": "6920482d-4ce4-4b7a-84e5-320e2fb4ef42"
    }
   },
   "outputs": [
    {
     "name": "stdout",
     "output_type": "stream",
     "text": [
      "{'cat': 'dog'}\n",
      "1\n",
      "1\n",
      "None\n"
     ]
    }
   ],
   "source": [
    "dct = dict(a=1, b=[1, 2], c={'book': 0}, d={'cat': 'dog'})\n",
    "\n",
    "print(dct['d']) # ==> {'cat': 'dog'}\n",
    "print(dct['a']) # ==> 1\n",
    "\n",
    "# there is also the get() method\n",
    "print(dct.get('a')) # ==> 1\n",
    "print(dct.get('p')) # ==> None"
   ]
  },
  {
   "cell_type": "markdown",
   "metadata": {
    "nbpresent": {
     "id": "e9ad3d32-acb6-4135-a1ef-9f26b009d158"
    }
   },
   "source": [
    "**A note about get() method:**  One thing I wish I had used earlier when learning Python was `dict.get()`.  When accessing a value by its key however, if you try to access a key that does not exist, you will get an error `KeyError` ... this is actually a good thing in some contexts, but in others, you may just want to know that the value exists without catching and handling the exception.  `get()` does this beautifully.  Using the `get()` operation is similar to using the `[]` notation except it will not return an error if the key does not exist:"
   ]
  },
  {
   "cell_type": "code",
   "execution_count": 11,
   "metadata": {
    "collapsed": false
   },
   "outputs": [
    {
     "ename": "KeyError",
     "evalue": "'p'",
     "output_type": "error",
     "traceback": [
      "\u001b[0;31m---------------------------------------------------------------------------\u001b[0m",
      "\u001b[0;31mKeyError\u001b[0m                                  Traceback (most recent call last)",
      "\u001b[0;32m<ipython-input-11-e31f2ec08055>\u001b[0m in \u001b[0;36m<module>\u001b[0;34m()\u001b[0m\n\u001b[0;32m----> 1\u001b[0;31m \u001b[0mdct\u001b[0m\u001b[1;33m[\u001b[0m\u001b[1;34m'p'\u001b[0m\u001b[1;33m]\u001b[0m \u001b[1;31m# ==> KeyError: 'p'\u001b[0m\u001b[1;33m\u001b[0m\u001b[0m\n\u001b[0m",
      "\u001b[0;31mKeyError\u001b[0m: 'p'"
     ]
    }
   ],
   "source": [
    "dct['p'] # ==> KeyError: 'p'"
   ]
  },
  {
   "cell_type": "code",
   "execution_count": 12,
   "metadata": {
    "collapsed": true,
    "nbpresent": {
     "id": "415e9b11-d97a-4127-99f2-0d60dc829b2e"
    }
   },
   "outputs": [],
   "source": [
    "dct.get('p') # ==> notice no error!"
   ]
  },
  {
   "cell_type": "markdown",
   "metadata": {
    "nbpresent": {
     "id": "27381a85-4f67-4389-8fb3-bc4af26e84d1"
    }
   },
   "source": [
    "Notice in the previous line, there is nothing printed.  Python returns the value `None`, which is not printed. If you want a value to be returned other than the default of `None`, then you can set the second parameter of `get()` to the value you want returned:"
   ]
  },
  {
   "cell_type": "code",
   "execution_count": 13,
   "metadata": {
    "collapsed": false,
    "nbpresent": {
     "id": "6925b4a1-624d-43da-9baa-1f242d3b61bd"
    }
   },
   "outputs": [
    {
     "data": {
      "text/plain": [
       "-1"
      ]
     },
     "execution_count": 13,
     "metadata": {},
     "output_type": "execute_result"
    }
   ],
   "source": [
    "dct.get('p', -1) # ==> -1 instead of the default None;"
   ]
  },
  {
   "cell_type": "markdown",
   "metadata": {
    "nbpresent": {
     "id": "d924b011-60ab-41ed-bdcc-7f6204ea032c"
    }
   },
   "source": [
    "## Operating over data structures\n",
    "I am assuming here (for now), the you have a basic understanding looping over things (at least abstractly).  Let's say, for example, you are interested in adding up the numbers in a list of numbers.\n",
    "\n",
    "Let's try:"
   ]
  },
  {
   "cell_type": "code",
   "execution_count": 14,
   "metadata": {
    "collapsed": true,
    "nbpresent": {
     "id": "f220d132-5b6d-4da4-bfa9-4285fae95989"
    }
   },
   "outputs": [],
   "source": [
    "# starting with a tuple of numbers\n",
    "ton = (1, 2, 3, 4, 5)"
   ]
  },
  {
   "cell_type": "markdown",
   "metadata": {
    "nbpresent": {
     "id": "aab686ce-83de-483f-8edb-46ffec5fb862"
    }
   },
   "source": [
    "What you want to do now is just print the numbers in that list:"
   ]
  },
  {
   "cell_type": "code",
   "execution_count": 15,
   "metadata": {
    "collapsed": false,
    "nbpresent": {
     "id": "b7061d1f-9e04-49e5-9c2f-8d3230bb8ccb"
    }
   },
   "outputs": [
    {
     "name": "stdout",
     "output_type": "stream",
     "text": [
      "1\n",
      "2\n",
      "3\n",
      "4\n",
      "5\n"
     ]
    }
   ],
   "source": [
    "for number in ton:\n",
    "    print(number)"
   ]
  },
  {
   "cell_type": "markdown",
   "metadata": {
    "nbpresent": {
     "id": "f775d734-9ddf-49e4-8649-057c239fa137"
    }
   },
   "source": [
    "How about a list:"
   ]
  },
  {
   "cell_type": "code",
   "execution_count": 16,
   "metadata": {
    "collapsed": false,
    "nbpresent": {
     "id": "722275e9-d962-416c-85f8-aa58839ce419"
    }
   },
   "outputs": [
    {
     "name": "stdout",
     "output_type": "stream",
     "text": [
      "1\n",
      "2\n",
      "3\n",
      "4\n",
      "5\n"
     ]
    }
   ],
   "source": [
    "lon = [1, 2, 3, 4, 5]\n",
    "for number in lon:\n",
    "    print(number)"
   ]
  },
  {
   "cell_type": "markdown",
   "metadata": {
    "nbpresent": {
     "id": "03d71358-5d2b-4e52-96aa-a2f6b33a98ce"
    }
   },
   "source": [
    "dictionaries ... anyone?"
   ]
  },
  {
   "cell_type": "code",
   "execution_count": 17,
   "metadata": {
    "collapsed": false,
    "nbpresent": {
     "id": "3ea518f6-ab46-4ac4-b479-1dee7d5be104"
    }
   },
   "outputs": [
    {
     "name": "stdout",
     "output_type": "stream",
     "text": [
      "a\n",
      "b\n",
      "c\n"
     ]
    }
   ],
   "source": [
    "dct = {'a': 1, 'b': 2, 'c': 3}\n",
    "for d in dct:\n",
    "    print(d)"
   ]
  },
  {
   "cell_type": "markdown",
   "metadata": {
    "nbpresent": {
     "id": "f43c4561-8ef6-455d-90ba-5308b1fd393c"
    }
   },
   "source": [
    "These are the **keys**, but what about the **values**?\n",
    "\n",
    "When using a simple loop over the whole dictionary, you can use the dictionary method [`items()`](https://docs.python.org/3/tutorial/datastructures.html#looping-techniques) and build the loop like this instead:"
   ]
  },
  {
   "cell_type": "code",
   "execution_count": 18,
   "metadata": {
    "collapsed": false,
    "nbpresent": {
     "id": "6e653613-06ff-428b-8d91-02a995edb0e0"
    }
   },
   "outputs": [
    {
     "name": "stdout",
     "output_type": "stream",
     "text": [
      "a 1\n",
      "b 2\n",
      "c 3\n",
      "\n",
      "Printing the square of the value in the dictionary key:\n",
      "a 1\n",
      "b 4\n",
      "c 9\n"
     ]
    }
   ],
   "source": [
    "for d, val in dct.items():\n",
    "    print(d, val)\n",
    "    \n",
    "print() \n",
    "print(\"Printing the square of the value in the dictionary key:\")\n",
    "for d, val in dct.items():\n",
    "    print(d, val**2)"
   ]
  },
  {
   "cell_type": "markdown",
   "metadata": {
    "nbpresent": {
     "id": "4018f2d8-b347-48bb-a23c-78efb0c6d5dc"
    }
   },
   "source": [
    "## LEARN MORE\n",
    "\n",
    "Read more about these and more data types in the [Python documentation on basic data structures](https://docs.python.org/3/tutorial/datastructures.html#tuples-and-sequences)."
   ]
  }
 ],
 "metadata": {
  "anaconda-cloud": {},
  "kernelspec": {
   "display_name": "Python 3",
   "language": "python",
   "name": "python3"
  },
  "language_info": {
   "codemirror_mode": {
    "name": "ipython",
    "version": 3
   },
   "file_extension": ".py",
   "mimetype": "text/x-python",
   "name": "python",
   "nbconvert_exporter": "python",
   "pygments_lexer": "ipython3",
   "version": "3.6.0"
  },
  "nbpresent": {
   "slides": {
    "004e6267-a37d-43dc-9e57-5fee0c97133c": {
     "id": "004e6267-a37d-43dc-9e57-5fee0c97133c",
     "prev": "305b31b1-9a2c-4c71-bcac-76a88d8fb8c3",
     "regions": {
      "9b8c2eca-acf8-40ba-b129-77246c8604e7": {
       "attrs": {
        "height": 0.8,
        "width": 0.8,
        "x": 0.1,
        "y": 0.1
       },
       "content": {
        "cell": "8df6f939-bf5e-4130-bc73-96b9ff6edbe1",
        "part": "whole"
       },
       "id": "9b8c2eca-acf8-40ba-b129-77246c8604e7"
      }
     }
    },
    "01140d79-4c18-46b8-b0d6-5f56a774262e": {
     "id": "01140d79-4c18-46b8-b0d6-5f56a774262e",
     "prev": "05a212bb-9b47-467e-8fc7-97137a6dee60",
     "regions": {
      "a3cf63c7-5d3c-430a-9730-34f260e1bc36": {
       "attrs": {
        "height": 0.8,
        "width": 0.8,
        "x": 0.1,
        "y": 0.1
       },
       "content": {
        "cell": "27381a85-4f67-4389-8fb3-bc4af26e84d1",
        "part": "whole"
       },
       "id": "a3cf63c7-5d3c-430a-9730-34f260e1bc36"
      }
     }
    },
    "05a212bb-9b47-467e-8fc7-97137a6dee60": {
     "id": "05a212bb-9b47-467e-8fc7-97137a6dee60",
     "prev": "004e6267-a37d-43dc-9e57-5fee0c97133c",
     "regions": {
      "d11c7177-6018-4f0a-865b-c520592ceb8a": {
       "attrs": {
        "height": 0.8,
        "width": 0.8,
        "x": 0.1,
        "y": 0.1
       },
       "content": {
        "cell": "415e9b11-d97a-4127-99f2-0d60dc829b2e",
        "part": "whole"
       },
       "id": "d11c7177-6018-4f0a-865b-c520592ceb8a"
      }
     }
    },
    "0b148c3a-d784-4df6-aaad-6c86f437efb1": {
     "id": "0b148c3a-d784-4df6-aaad-6c86f437efb1",
     "prev": "635ec0ea-a12a-4d16-82ab-190bde3f1bea",
     "regions": {
      "9a137211-68f9-4c1c-9768-4ffef4748cbc": {
       "attrs": {
        "height": 0.8,
        "width": 0.8,
        "x": 0.1,
        "y": 0.1
       },
       "content": {
        "cell": "ed0f4e5b-2df4-488f-a0f0-5ca4e9e67d9b",
        "part": "whole"
       },
       "id": "9a137211-68f9-4c1c-9768-4ffef4748cbc"
      }
     }
    },
    "0d85b7a7-1c3a-45fb-a31e-fe63f5c14e2a": {
     "id": "0d85b7a7-1c3a-45fb-a31e-fe63f5c14e2a",
     "prev": "5b81caf3-cd62-40dc-8afb-1377f3eada73",
     "regions": {
      "151a569a-ef71-4772-b8db-5753641ebaf2": {
       "attrs": {
        "height": 0.8,
        "width": 0.8,
        "x": 0.1,
        "y": 0.1
       },
       "content": {
        "cell": "6920482d-4ce4-4b7a-84e5-320e2fb4ef42",
        "part": "whole"
       },
       "id": "151a569a-ef71-4772-b8db-5753641ebaf2"
      }
     }
    },
    "10866946-683c-49ea-ac3d-499405f67201": {
     "id": "10866946-683c-49ea-ac3d-499405f67201",
     "prev": "ac0823ff-3e4d-4d58-a819-bd0fcb564437",
     "regions": {
      "041e99c2-32a1-4a70-8cc4-b9ffc870181e": {
       "attrs": {
        "height": 0.8,
        "width": 0.8,
        "x": 0.1,
        "y": 0.1
       },
       "content": {
        "cell": "4018f2d8-b347-48bb-a23c-78efb0c6d5dc",
        "part": "whole"
       },
       "id": "041e99c2-32a1-4a70-8cc4-b9ffc870181e"
      }
     },
     "theme": null
    },
    "11550366-282c-489f-b4e9-93aa6bf3b3fc": {
     "id": "11550366-282c-489f-b4e9-93aa6bf3b3fc",
     "prev": "4b7838ed-5604-4157-a7af-278c74306a67",
     "regions": {
      "8f04df4a-4db9-44e6-88df-52b754170a13": {
       "attrs": {
        "height": 0.8,
        "width": 0.8,
        "x": 0.1,
        "y": 0.1
       },
       "content": {
        "cell": "3311fee6-d2ec-4032-a978-f969016a7a3a",
        "part": "whole"
       },
       "id": "8f04df4a-4db9-44e6-88df-52b754170a13"
      }
     }
    },
    "1b515a6e-81ce-49a1-a173-b9d37be7cccb": {
     "id": "1b515a6e-81ce-49a1-a173-b9d37be7cccb",
     "prev": "bce44b70-8620-442c-b483-c923706ef461",
     "regions": {
      "09ada10a-1f6e-4034-a0dc-32157ec54c97": {
       "attrs": {
        "height": 0.8,
        "width": 0.8,
        "x": 0.1,
        "y": 0.1
       },
       "content": {
        "cell": "ece35f53-5e29-4b4d-89b4-5c720d33dbc4",
        "part": "whole"
       },
       "id": "09ada10a-1f6e-4034-a0dc-32157ec54c97"
      }
     }
    },
    "1b8aefb1-fc19-4d84-ac2e-abd9efc0565f": {
     "id": "1b8aefb1-fc19-4d84-ac2e-abd9efc0565f",
     "prev": "5abc2d11-7f8a-46e7-a8a1-069fc9df28fe",
     "regions": {
      "e3fd49f5-ad9d-4aa7-abbb-0ed382a6afa1": {
       "attrs": {
        "height": 0.8,
        "width": 0.8,
        "x": 0.1,
        "y": 0.1
       },
       "content": {
        "cell": "03d71358-5d2b-4e52-96aa-a2f6b33a98ce",
        "part": "whole"
       },
       "id": "e3fd49f5-ad9d-4aa7-abbb-0ed382a6afa1"
      }
     }
    },
    "24c2ae14-f604-4d07-971f-b3dca50e1ca0": {
     "id": "24c2ae14-f604-4d07-971f-b3dca50e1ca0",
     "prev": "c5b576db-a830-4c52-8328-6e273f6204fc",
     "regions": {
      "78fd338e-8b53-464b-af80-f698f14bc40b": {
       "attrs": {
        "height": 0.8,
        "width": 0.8,
        "x": 0.1,
        "y": 0.1
       },
       "content": {
        "cell": "f775d734-9ddf-49e4-8649-057c239fa137",
        "part": "whole"
       },
       "id": "78fd338e-8b53-464b-af80-f698f14bc40b"
      }
     }
    },
    "2d2edd36-1262-426d-b137-f265f34e0d37": {
     "id": "2d2edd36-1262-426d-b137-f265f34e0d37",
     "prev": "d10eb5e3-7a03-4cbb-8a79-8fbe8fb0bf91",
     "regions": {
      "7dfbb292-9172-495a-bd52-2a7178340eb9": {
       "attrs": {
        "height": 0.8,
        "width": 0.8,
        "x": 0.1,
        "y": 0.1
       },
       "content": {
        "cell": "0055ff9d-5e1e-49a5-81e6-91c835a3282d",
        "part": "whole"
       },
       "id": "7dfbb292-9172-495a-bd52-2a7178340eb9"
      }
     }
    },
    "305b31b1-9a2c-4c71-bcac-76a88d8fb8c3": {
     "id": "305b31b1-9a2c-4c71-bcac-76a88d8fb8c3",
     "prev": "0d85b7a7-1c3a-45fb-a31e-fe63f5c14e2a",
     "regions": {
      "ba861fea-29e4-4b91-a32f-93f68ff4027e": {
       "attrs": {
        "height": 0.8,
        "width": 0.8,
        "x": 0.1,
        "y": 0.1
       },
       "content": {
        "cell": "e9ad3d32-acb6-4135-a1ef-9f26b009d158",
        "part": "whole"
       },
       "id": "ba861fea-29e4-4b91-a32f-93f68ff4027e"
      }
     }
    },
    "323b1fa8-d93b-461c-a457-edbb3502701b": {
     "id": "323b1fa8-d93b-461c-a457-edbb3502701b",
     "prev": "453c2834-309c-46e4-98f0-6cebd2f22c06",
     "regions": {
      "21d5e8ed-320e-4913-8b44-4050c8c00f34": {
       "attrs": {
        "height": 0.8,
        "width": 0.8,
        "x": 0.1,
        "y": 0.1
       },
       "content": {
        "cell": "48c71be9-5f0b-4a7d-9661-a9bc831b8bb4",
        "part": "whole"
       },
       "id": "21d5e8ed-320e-4913-8b44-4050c8c00f34"
      }
     }
    },
    "3d6c9f47-48df-4c79-9678-962e07472c85": {
     "id": "3d6c9f47-48df-4c79-9678-962e07472c85",
     "prev": "1b515a6e-81ce-49a1-a173-b9d37be7cccb",
     "regions": {
      "4828fb3e-1bf6-4eac-a164-24bff1e7c45a": {
       "attrs": {
        "height": 0.8,
        "width": 0.8,
        "x": 0.1,
        "y": 0.1
       },
       "content": {
        "cell": "a6c87074-c0ad-478b-baad-bc316710b3cd",
        "part": "whole"
       },
       "id": "4828fb3e-1bf6-4eac-a164-24bff1e7c45a"
      }
     }
    },
    "453c2834-309c-46e4-98f0-6cebd2f22c06": {
     "id": "453c2834-309c-46e4-98f0-6cebd2f22c06",
     "prev": null,
     "regions": {
      "44ac7e97-1085-439d-a927-670e510fb86a": {
       "attrs": {
        "height": 0.8,
        "width": 0.8,
        "x": 0.1,
        "y": 0.1
       },
       "content": {
        "cell": "772a8e6d-32eb-4514-b349-d01114127588",
        "part": "whole"
       },
       "id": "44ac7e97-1085-439d-a927-670e510fb86a"
      }
     }
    },
    "4b7838ed-5604-4157-a7af-278c74306a67": {
     "id": "4b7838ed-5604-4157-a7af-278c74306a67",
     "prev": "7f79f645-6dbc-48da-940b-e55b60157ef6",
     "regions": {
      "d52c59fd-c40c-42ee-8714-6b38efc20a79": {
       "attrs": {
        "height": 0.8,
        "width": 0.8,
        "x": 0.1,
        "y": 0.1
       },
       "content": {
        "cell": "2114649d-91b8-44af-bc0b-783e9b04a1a8",
        "part": "whole"
       },
       "id": "d52c59fd-c40c-42ee-8714-6b38efc20a79"
      }
     }
    },
    "52872d91-9261-49bf-8b50-7cb8e4c1a555": {
     "id": "52872d91-9261-49bf-8b50-7cb8e4c1a555",
     "prev": "9b6fd2b4-67ba-496e-94a7-9d76667b20e9",
     "regions": {
      "1d6c8fc8-1a59-4508-86ab-79d025360b30": {
       "attrs": {
        "height": 0.8,
        "width": 0.8,
        "x": 0.1,
        "y": 0.1
       },
       "content": {
        "cell": "8dc4d2d3-0123-4cb1-9b83-be06a5db8748",
        "part": "whole"
       },
       "id": "1d6c8fc8-1a59-4508-86ab-79d025360b30"
      }
     }
    },
    "5abc2d11-7f8a-46e7-a8a1-069fc9df28fe": {
     "id": "5abc2d11-7f8a-46e7-a8a1-069fc9df28fe",
     "prev": "24c2ae14-f604-4d07-971f-b3dca50e1ca0",
     "regions": {
      "6621e17f-cc3d-47c2-9636-ac593712f2ce": {
       "attrs": {
        "height": 0.8,
        "width": 0.8,
        "x": 0.1,
        "y": 0.1
       },
       "content": {
        "cell": "722275e9-d962-416c-85f8-aa58839ce419",
        "part": "whole"
       },
       "id": "6621e17f-cc3d-47c2-9636-ac593712f2ce"
      }
     }
    },
    "5b81caf3-cd62-40dc-8afb-1377f3eada73": {
     "id": "5b81caf3-cd62-40dc-8afb-1377f3eada73",
     "prev": "d8072d1c-e8b4-461a-971f-cb041f411f66",
     "regions": {
      "2cee6770-cc30-43bc-b338-cc4ae0976a39": {
       "attrs": {
        "height": 0.8,
        "width": 0.8,
        "x": 0.1,
        "y": 0.1
       },
       "content": {
        "cell": "299c4998-14de-4d36-b8b2-c877f6683922",
        "part": "whole"
       },
       "id": "2cee6770-cc30-43bc-b338-cc4ae0976a39"
      }
     }
    },
    "5e928886-6353-49ec-8cc5-83ca95b3a390": {
     "id": "5e928886-6353-49ec-8cc5-83ca95b3a390",
     "prev": "3d6c9f47-48df-4c79-9678-962e07472c85",
     "regions": {
      "a9340e41-5b0d-4565-960a-033a66ac383d": {
       "attrs": {
        "height": 0.8,
        "width": 0.8,
        "x": 0.1,
        "y": 0.1
       },
       "content": {
        "cell": "814d5e90-f015-46b1-b460-201691b9a040",
        "part": "whole"
       },
       "id": "a9340e41-5b0d-4565-960a-033a66ac383d"
      }
     }
    },
    "5ff9043f-6616-4366-8207-dcbe7c8050dc": {
     "id": "5ff9043f-6616-4366-8207-dcbe7c8050dc",
     "prev": "11550366-282c-489f-b4e9-93aa6bf3b3fc",
     "regions": {
      "7d86ae84-fc7b-4176-b834-2d14b55c6c4e": {
       "attrs": {
        "height": 0.8,
        "width": 0.8,
        "x": 0.1,
        "y": 0.1
       },
       "content": {
        "cell": "36e7614f-9ce5-4a18-a6eb-39b9a1e17900",
        "part": "whole"
       },
       "id": "7d86ae84-fc7b-4176-b834-2d14b55c6c4e"
      }
     }
    },
    "635ec0ea-a12a-4d16-82ab-190bde3f1bea": {
     "id": "635ec0ea-a12a-4d16-82ab-190bde3f1bea",
     "prev": "2d2edd36-1262-426d-b137-f265f34e0d37",
     "regions": {
      "e2f92a6a-46dc-48f2-af3a-6efd8b964297": {
       "attrs": {
        "height": 0.8,
        "width": 0.8,
        "x": 0.1,
        "y": 0.1
       },
       "content": {
        "cell": "7e28cbf9-590d-413c-9a87-aca55b2ade2a",
        "part": "whole"
       },
       "id": "e2f92a6a-46dc-48f2-af3a-6efd8b964297"
      }
     }
    },
    "6c7e2319-ae92-4962-bcb8-02bf6e01868c": {
     "id": "6c7e2319-ae92-4962-bcb8-02bf6e01868c",
     "prev": "1b8aefb1-fc19-4d84-ac2e-abd9efc0565f",
     "regions": {
      "82c13b4c-f477-4511-b0b2-dabfcf84eedd": {
       "attrs": {
        "height": 0.8,
        "width": 0.8,
        "x": 0.1,
        "y": 0.1
       },
       "content": {
        "cell": "3ea518f6-ab46-4ac4-b479-1dee7d5be104",
        "part": "whole"
       },
       "id": "82c13b4c-f477-4511-b0b2-dabfcf84eedd"
      }
     }
    },
    "70d9e7e3-f74f-485e-b1a1-ddf41ffc45ce": {
     "id": "70d9e7e3-f74f-485e-b1a1-ddf41ffc45ce",
     "prev": "323b1fa8-d93b-461c-a457-edbb3502701b",
     "regions": {
      "c49e49da-7a34-41a5-b79e-d86351b9c686": {
       "attrs": {
        "height": 0.8,
        "width": 0.8,
        "x": 0.1,
        "y": 0.1
       },
       "content": {
        "cell": "63f83d43-a9ce-4f7a-a058-33923b003f74",
        "part": "whole"
       },
       "id": "c49e49da-7a34-41a5-b79e-d86351b9c686"
      }
     }
    },
    "733daf8f-a05e-472b-8635-b3fd57ed88df": {
     "id": "733daf8f-a05e-472b-8635-b3fd57ed88df",
     "layout": "grid",
     "prev": "52872d91-9261-49bf-8b50-7cb8e4c1a555",
     "regions": {
      "9bcad1b7-7517-4fa7-8cdc-96ba5cadb65d": {
       "attrs": {
        "height": 0.8333333333333334,
        "pad": 0.01,
        "width": 0.8333333333333334,
        "x": 0.08333333333333333,
        "y": 0.08333333333333333
       },
       "id": "9bcad1b7-7517-4fa7-8cdc-96ba5cadb65d"
      }
     }
    },
    "7f79f645-6dbc-48da-940b-e55b60157ef6": {
     "id": "7f79f645-6dbc-48da-940b-e55b60157ef6",
     "prev": "5e928886-6353-49ec-8cc5-83ca95b3a390",
     "regions": {
      "806e8094-adf5-49a3-94f0-526ad48c3d1b": {
       "attrs": {
        "height": 0.8,
        "width": 0.8,
        "x": 0.1,
        "y": 0.1
       },
       "content": {
        "cell": "e753c7d4-42a1-4e3c-9230-428fff77f05a",
        "part": "whole"
       },
       "id": "806e8094-adf5-49a3-94f0-526ad48c3d1b"
      }
     }
    },
    "843e8438-1579-48cb-a1e3-c857a3a41e5c": {
     "id": "843e8438-1579-48cb-a1e3-c857a3a41e5c",
     "prev": "d3c346ec-fea6-4043-a675-3d7b35816ff9",
     "regions": {
      "1418e713-a592-4531-b2c8-4da92a669b6c": {
       "attrs": {
        "height": 0.8,
        "width": 0.8,
        "x": 0.1,
        "y": 0.1
       },
       "content": {
        "cell": "aab686ce-83de-483f-8edb-46ffec5fb862",
        "part": "whole"
       },
       "id": "1418e713-a592-4531-b2c8-4da92a669b6c"
      }
     }
    },
    "9b6fd2b4-67ba-496e-94a7-9d76667b20e9": {
     "id": "9b6fd2b4-67ba-496e-94a7-9d76667b20e9",
     "prev": "b2da7ac4-2e95-45b1-be81-29cccf2e7c61",
     "regions": {
      "eb8726c6-c98e-4759-bc1f-a87a128bdaa0": {
       "attrs": {
        "height": 0.8,
        "width": 0.8,
        "x": 0.1,
        "y": 0.1
       },
       "content": {
        "cell": "e86a4acf-d518-4b45-944b-1b1833ae0d9d",
        "part": "whole"
       },
       "id": "eb8726c6-c98e-4759-bc1f-a87a128bdaa0"
      }
     }
    },
    "ac0823ff-3e4d-4d58-a819-bd0fcb564437": {
     "id": "ac0823ff-3e4d-4d58-a819-bd0fcb564437",
     "prev": "d87715f5-0aba-4670-8cad-041f22d6895e",
     "regions": {
      "2401da10-88de-49a6-adb2-3c2eaaf9fd98": {
       "attrs": {
        "height": 0.8,
        "width": 0.8,
        "x": 0.1,
        "y": 0.1
       },
       "content": {
        "cell": "6e653613-06ff-428b-8d91-02a995edb0e0",
        "part": "whole"
       },
       "id": "2401da10-88de-49a6-adb2-3c2eaaf9fd98"
      }
     }
    },
    "afc7b0fb-2b3d-4a0a-9670-480f52265dfb": {
     "id": "afc7b0fb-2b3d-4a0a-9670-480f52265dfb",
     "prev": "cfabd666-2776-429c-8943-566527b4d25a",
     "regions": {
      "c7a61de0-12be-4f36-879a-88cf975807ec": {
       "attrs": {
        "height": 0.8,
        "width": 0.8,
        "x": 0.1,
        "y": 0.1
       },
       "content": {
        "cell": "d924b011-60ab-41ed-bdcc-7f6204ea032c",
        "part": "whole"
       },
       "id": "c7a61de0-12be-4f36-879a-88cf975807ec"
      }
     }
    },
    "b2da7ac4-2e95-45b1-be81-29cccf2e7c61": {
     "id": "b2da7ac4-2e95-45b1-be81-29cccf2e7c61",
     "prev": "5ff9043f-6616-4366-8207-dcbe7c8050dc",
     "regions": {
      "df20cb49-51d5-46bd-9989-5546a020a9fc": {
       "attrs": {
        "height": 0.8,
        "width": 0.8,
        "x": 0.1,
        "y": 0.1
       },
       "content": {
        "cell": "0cbdf2ec-af2f-407b-b3c3-3229b17d47cc",
        "part": "whole"
       },
       "id": "df20cb49-51d5-46bd-9989-5546a020a9fc"
      }
     }
    },
    "bce44b70-8620-442c-b483-c923706ef461": {
     "id": "bce44b70-8620-442c-b483-c923706ef461",
     "prev": "0b148c3a-d784-4df6-aaad-6c86f437efb1",
     "regions": {
      "b8be0c05-467c-4cb3-993b-79a6586078f0": {
       "attrs": {
        "height": 0.8,
        "width": 0.8,
        "x": 0.1,
        "y": 0.1
       },
       "content": {
        "cell": "40c4391c-e11c-46cb-bfc7-edc379f175f5",
        "part": "whole"
       },
       "id": "b8be0c05-467c-4cb3-993b-79a6586078f0"
      }
     }
    },
    "c5b576db-a830-4c52-8328-6e273f6204fc": {
     "id": "c5b576db-a830-4c52-8328-6e273f6204fc",
     "prev": "843e8438-1579-48cb-a1e3-c857a3a41e5c",
     "regions": {
      "0f69ea2f-11a0-4f84-af8d-f0fc5ff956f8": {
       "attrs": {
        "height": 0.8,
        "width": 0.8,
        "x": 0.1,
        "y": 0.1
       },
       "content": {
        "cell": "b7061d1f-9e04-49e5-9c2f-8d3230bb8ccb",
        "part": "whole"
       },
       "id": "0f69ea2f-11a0-4f84-af8d-f0fc5ff956f8"
      }
     }
    },
    "cfabd666-2776-429c-8943-566527b4d25a": {
     "id": "cfabd666-2776-429c-8943-566527b4d25a",
     "prev": "01140d79-4c18-46b8-b0d6-5f56a774262e",
     "regions": {
      "498e0ea5-a864-4d05-b564-f7c75283563e": {
       "attrs": {
        "height": 0.8,
        "width": 0.8,
        "x": 0.1,
        "y": 0.1
       },
       "content": {
        "cell": "6925b4a1-624d-43da-9baa-1f242d3b61bd",
        "part": "whole"
       },
       "id": "498e0ea5-a864-4d05-b564-f7c75283563e"
      }
     }
    },
    "d10eb5e3-7a03-4cbb-8a79-8fbe8fb0bf91": {
     "id": "d10eb5e3-7a03-4cbb-8a79-8fbe8fb0bf91",
     "prev": "70d9e7e3-f74f-485e-b1a1-ddf41ffc45ce",
     "regions": {
      "26972e40-7109-4743-9738-4065a626d38a": {
       "attrs": {
        "height": 0.8,
        "width": 0.8,
        "x": 0.1,
        "y": 0.1
       },
       "content": {
        "cell": "f6ad9b6d-985f-4c2b-b965-3f69c0e473b6",
        "part": "whole"
       },
       "id": "26972e40-7109-4743-9738-4065a626d38a"
      }
     }
    },
    "d3c346ec-fea6-4043-a675-3d7b35816ff9": {
     "id": "d3c346ec-fea6-4043-a675-3d7b35816ff9",
     "prev": "afc7b0fb-2b3d-4a0a-9670-480f52265dfb",
     "regions": {
      "879503eb-71a7-43d8-a742-08f3610294ce": {
       "attrs": {
        "height": 0.8,
        "width": 0.8,
        "x": 0.1,
        "y": 0.1
       },
       "content": {
        "cell": "f220d132-5b6d-4da4-bfa9-4285fae95989",
        "part": "whole"
       },
       "id": "879503eb-71a7-43d8-a742-08f3610294ce"
      }
     }
    },
    "d8072d1c-e8b4-461a-971f-cb041f411f66": {
     "id": "d8072d1c-e8b4-461a-971f-cb041f411f66",
     "prev": "733daf8f-a05e-472b-8635-b3fd57ed88df",
     "regions": {
      "4d89b1b7-0b3c-45f7-9b34-588eb24ea1ca": {
       "attrs": {
        "height": 0.8000000000000002,
        "width": 0.8,
        "x": 0.10089691651730415,
        "y": 0.1
       },
       "id": "4d89b1b7-0b3c-45f7-9b34-588eb24ea1ca"
      }
     }
    },
    "d87715f5-0aba-4670-8cad-041f22d6895e": {
     "id": "d87715f5-0aba-4670-8cad-041f22d6895e",
     "prev": "6c7e2319-ae92-4962-bcb8-02bf6e01868c",
     "regions": {
      "184c17cd-1433-422a-a382-7bd1a0deacb3": {
       "attrs": {
        "height": 0.8,
        "width": 0.8,
        "x": 0.1,
        "y": 0.1
       },
       "content": {
        "cell": "f43c4561-8ef6-455d-90ba-5308b1fd393c",
        "part": "whole"
       },
       "id": "184c17cd-1433-422a-a382-7bd1a0deacb3"
      }
     }
    }
   },
   "themes": {}
  },
  "toc": {
   "colors": {
    "hover_highlight": "#DAA520",
    "navigate_num": "#000000",
    "navigate_text": "#333333",
    "running_highlight": "#FF0000",
    "selected_highlight": "#FFD700",
    "sidebar_border": "#EEEEEE",
    "wrapper_background": "#FFFFFF"
   },
   "moveMenuLeft": true,
   "nav_menu": {
    "height": "266px",
    "width": "252px"
   },
   "navigate_menu": true,
   "number_sections": false,
   "sideBar": true,
   "threshold": 4,
   "toc_cell": false,
   "toc_section_display": "block",
   "toc_window_display": false,
   "widenNotebook": false
  }
 },
 "nbformat": 4,
 "nbformat_minor": 0
}
