{
 "cells": [
  {
   "cell_type": "markdown",
   "metadata": {},
   "source": [
    "**WORKSHOP NAVIGATION**\n",
    "\n",
    "---\n",
    "* [A quick introduction to Python](ws01b_intro.ipynb)\n",
    "* [Python string basics](ws01c_strings.ipynb)\n",
    "* [A quick tour of working with files](ws01d_files.ipynb)\n",
    "* **Jupyter: A flyby introduction**\n",
    "* [Introduction to Github](ws01f_github.ipynb)\n",
    "---"
   ]
  },
  {
   "cell_type": "markdown",
   "metadata": {
    "toc": "true"
   },
   "source": [
    "# Table of Contents\n",
    " <p><div class=\"lev1 toc-item\"><a href=\"#WORKSHOP-1-/-Jupyter:-A-flyby-introduction\" data-toc-modified-id=\"WORKSHOP-1-/-Jupyter:-A-flyby-introduction-1\"><span class=\"toc-item-num\">1&nbsp;&nbsp;</span>WORKSHOP 1 / Jupyter: A flyby introduction</a></div><div class=\"lev2 toc-item\"><a href=\"#Jupyter-Notebooks:-What?\" data-toc-modified-id=\"Jupyter-Notebooks:-What?-11\"><span class=\"toc-item-num\">1.1&nbsp;&nbsp;</span>Jupyter Notebooks: What?</a></div><div class=\"lev2 toc-item\"><a href=\"#Jupyter-Notebooks:-Why?\" data-toc-modified-id=\"Jupyter-Notebooks:-Why?-12\"><span class=\"toc-item-num\">1.2&nbsp;&nbsp;</span>Jupyter Notebooks: Why?</a></div><div class=\"lev2 toc-item\"><a href=\"#Jupyter-Notebooks:-How?\" data-toc-modified-id=\"Jupyter-Notebooks:-How?-13\"><span class=\"toc-item-num\">1.3&nbsp;&nbsp;</span>Jupyter Notebooks: How?</a></div><div class=\"lev3 toc-item\"><a href=\"#Narratives\" data-toc-modified-id=\"Narratives-131\"><span class=\"toc-item-num\">1.3.1&nbsp;&nbsp;</span>Narratives</a></div><div class=\"lev3 toc-item\"><a href=\"#Plain-text-narratives-with-Markdown\" data-toc-modified-id=\"Plain-text-narratives-with-Markdown-132\"><span class=\"toc-item-num\">1.3.2&nbsp;&nbsp;</span>Plain text narratives with Markdown</a></div><div class=\"lev3 toc-item\"><a href=\"#Math-narratives-with-LaTeX\" data-toc-modified-id=\"Math-narratives-with-LaTeX-133\"><span class=\"toc-item-num\">1.3.3&nbsp;&nbsp;</span>Math narratives with $\\LaTeX$</a></div><div class=\"lev3 toc-item\"><a href=\"#Code-narratives\" data-toc-modified-id=\"Code-narratives-134\"><span class=\"toc-item-num\">1.3.4&nbsp;&nbsp;</span>Code narratives</a></div><div class=\"lev2 toc-item\"><a href=\"#Jupyter-Notebooks:-When?\" data-toc-modified-id=\"Jupyter-Notebooks:-When?-14\"><span class=\"toc-item-num\">1.4&nbsp;&nbsp;</span>Jupyter Notebooks: When?</a></div><div class=\"lev2 toc-item\"><a href=\"#Resources\" data-toc-modified-id=\"Resources-15\"><span class=\"toc-item-num\">1.5&nbsp;&nbsp;</span>Resources</a></div>"
   ]
  },
  {
   "cell_type": "markdown",
   "metadata": {},
   "source": [
    "# WORKSHOP 1 / Jupyter: A flyby introduction"
   ]
  },
  {
   "cell_type": "markdown",
   "metadata": {},
   "source": [
    "## Jupyter Notebooks: What?\n",
    "\n",
    "In the last few years, Jupyter Notebooks have become one of several standard tools being used in data analysis and data science today. In our workshop we will make heavy use of its features, but we will begin with the basics.  So what is a Jupyter Notebook?\n",
    "\n",
    "A Jupyter Notebook can be minimally summarized as :\n",
    "\n",
    "* an _interactive_, _executable_ **document**, that\n",
    "* _mixes code_ and _data_ with **narrative** (text, technical notes, etc.), that\n",
    "* is _sharable_ and _editable_.\n",
    "\n",
    "\n",
    "Think of your notebook as a way to explore data, while sharing the code along side your data exploration, while simultaneously having a conversation (through the narrative) describing the code, the data and the goal(s) you're trying to accomplish.\n",
    "\n",
    "Jupyter is much more than described above, and certainly not the only tool out there, but it is one of the best at what it does and is getting better with each new version!"
   ]
  },
  {
   "cell_type": "markdown",
   "metadata": {},
   "source": [
    "## Jupyter Notebooks: Why?\n",
    "\n",
    "In the scientific method, we often like to break the process down into the following rough steps:\n",
    "\n",
    "1. formulate a question (from some general observation(s) / phenomenon)\n",
    "2. propose a hypothesis that might explain the phenomenon\n",
    "3. develop a prediction or model\n",
    "4. gather data and test predictions / model\n",
    "5. refine, alter, reject, expand hypothesis (and if necessary model)\n",
    "6. **[iterate between steps 3-5]**\n",
    "7. develop general theories from the outcomes\n",
    "\n",
    "The scientific method works best when there is supporting documentation of each of these steps, because when sharing the outcomes of research, we are very much concerned with making sure our work is _repeatable_ and _reproducible_. Work is _repeatable_ when we execute the same methods on the same data and get the same result. It is _reproducible_ when we execute the same methods on new or different data and get results that are consistent with our theory or hypothesis. Both are necessary for good science. \n",
    "\n",
    "We know that today much of our science is _data-driven_.  We have large data sets to explore a hypothesis with, which is often supported by software. There is almost no end in sight to the volume of data being collected, and thus increasing our demands on good software that can be shared. \n",
    "\n",
    "The power of Jupyter Notebooks is demonstrated in their flexibility to support nearly all computational and data-driven phases of the scientific method. We can use the documentation and narrative building tools of the notebook to document our questions and hypotheses (1 and 2 above).  We can even link the documentation of our hypothesis to the original research being referenced or built upon.  Using the interactive programming paradigm of Jupyter (along side the documentation) we can test computations and build predictions and models in code, and even test early versions of those models interactively, perhaps even holding on to variations during iterative refinement.  "
   ]
  },
  {
   "cell_type": "markdown",
   "metadata": {},
   "source": [
    "## Jupyter Notebooks: How?"
   ]
  },
  {
   "cell_type": "markdown",
   "metadata": {},
   "source": [
    "### Narratives\n",
    "Data-driven science today can be considered a combination of explanatory narrative with computational support for that narrative.  With technology like Jupyter, we can marry the two so that they can co-exist together where they (arguably) make sense to.  \n",
    "\n",
    "Jupyter supports narratives by introducing the concept of a \"cell\", where a cell _is a container for stuff_ ... that stuff being one of the following\n",
    "\n",
    "* executing code (in a language like Python),\n",
    "* plain text and Markdown, \n",
    "* math via $\\LaTeX$ mixed in with plain text and Markdown, or\n",
    "* HTML.\n",
    "\n",
    "What makes Jupyter different from other environments like Matlab is that cells containing executing code can be in a variety of supported languages.  While Python, R and Julia have robust support in Jupyter, other languages like Java, Javascript, FORTRAN and others can be included in a notebook.  Furthermore, cell can support dynamic visualizations in HTML and Javascript, taking interactivity to another level.  These are advanced topics and do require configuration beyond the scope of these workshops, but when it comes to flexibility, Jupyter is almost certainly on your side."
   ]
  },
  {
   "cell_type": "markdown",
   "metadata": {},
   "source": [
    "### Plain text narratives with Markdown\n",
    "\n",
    "Jupyter cells that are designed for text can use a simple markup notation called [Markdown](https://daringfireball.net/projects/markdown/) and also $\\LaTeX$ for mathematical notation. Markdown is much like plain old text with a few simple notations for things like bold, italics, headings and linking.  In general, Markdown is not hard to learn and the more you use it the more natural it becomes.  The motivating philosophy behind it was to strive for readability, simplicity and unobtrusiveness.\n",
    "\n",
    "We won't spend a lot of time here with Markdown as there are superb tutorials online to get you on your way."
   ]
  },
  {
   "cell_type": "markdown",
   "metadata": {},
   "source": [
    "### Math narratives with $\\LaTeX$\n",
    "[$\\LaTeX$](http://www.latex-project.org) has been used for over  three decades to produce highly professional scientific documents and books.  It is likely you own at least one textbook (or course notes) that were written using $\\LaTeX$, especially if the subject is math, physics or computer science.  One reason you may not have learned to use it, however, is that in general it has a high learning curve for beginners, and while the final output of a $\\LaTeX$ document is most certainly going to please, it may have taken much longer to produce your first version when compared to Google or Microsoft tools.\n",
    "\n",
    "Luckily, Jupyter makes this much easier by removing the need for any complex formatting, and instead just supporting Markdown, while at the same time providing a great deal of support for the bulk of moderately complex $\\LaTeX$ math without much of the fancy typesetting that brings beginners to cut their losses and quit before a final product can be realized.  Breath easy, this will not be as difficult as may seem.\n",
    "\n",
    "If you need to build narratives that are math heavy, Jupyter support for basic mathematical notation is built in to help you build nice looking documents (with _beautifully_ typeset math) that could _theoretically_ be exported to PDF and look almost as nice as a document written in a word processing environment like Google Docs or Microsoft Word (or even full $\\LaTeX$).  While admittedly lacking many of the features of a \"word processor\", for computational narratives the environment is compelling.\n",
    "\n",
    "Mathematical narratives in Jupyter can be useful in many contexts, for example,\n",
    "\n",
    "* to explain a theoretical result or show the usage of a specific mathematical technique,\n",
    "* to provide a mathematical proof of a result that you are deriving,\n",
    "* to show the mathematical underpinnings of an algorithm, \n",
    "* to show the formulae used in a concrete calculation or manipulation of data.\n",
    "\n",
    "\n",
    "Here are a few  math examples (view the source code for this notebook to see how easily it can be done):\n",
    "\n",
    "Suppose that,\n",
    "$$\n",
    "f'(x) = { \\lim_{ \\Delta x \\rightarrow 0 }  { { f(x + \\Delta x) - f(x) } \\over \\Delta x } }\n",
    "$$\n",
    "\n",
    "and maybe\n",
    "$$\n",
    "\\int x^n dx = { {x^{n+1}} \\over n+1 } \n",
    "$$\n",
    "therefore we have\n",
    "$$\n",
    "\\sum_{k}^\\infty { {t^k \\over k!} = e^t }\n",
    "$$\n",
    "\n",
    "and in rare cases\n",
    "$$\n",
    "\\sum_{\\substack{\n",
    "   0<i<m \\\\\n",
    "   0<j<n\n",
    "  }} \n",
    " P(i,j).\n",
    "$$\n",
    "\n",
    "But we must consider the following cases\n",
    "\n",
    "$$ f(n) =\n",
    "  \\begin{cases}\n",
    "    n \\over 2       & \\quad \\text{if } n \\text{ is even}\\\\\n",
    "    -(n+1) \\over 2  & \\quad \\text{if } n \\text{ is odd}\\\\\n",
    "  \\end{cases}\n",
    "$$\n",
    "\n",
    "and in cases where we can't, we might use\n",
    "\n",
    "$$\n",
    "A_{m,n} = \n",
    " \\begin{pmatrix}\n",
    "  a_{1,1} & a_{1,2} & \\cdots & a_{1,n} \\\\\n",
    "  a_{2,1} & a_{2,2} & \\cdots & a_{2,n} \\\\\n",
    "  \\vdots  & \\vdots  & \\ddots & \\vdots  \\\\\n",
    "  a_{m,1} & a_{m,2} & \\cdots & a_{m,n} \n",
    " \\end{pmatrix}.\n",
    "$$\n",
    "\n",
    "\n",
    "\n",
    "But alas, we will end with some Greek\n",
    "\n",
    "$$\\alpha, \\beta, \\gamma, \\kappa, \\Pi, \\Upsilon, \\Omega, \\ldots$$"
   ]
  },
  {
   "cell_type": "markdown",
   "metadata": {},
   "source": [
    "Once you get the hang of developing narratives, you might never look back and wonder how you lived without these tools.  Here are some additional resources for using $\\LaTeX$:\n",
    "\n",
    "* this [Math Wiki](https://en.wikibooks.org/wiki/LaTeX/Mathematics) for $\\LaTeX$ has a nice summary of common math patterns,\n",
    "* the [$\\LaTeX$ Cheatsheet]() is an indispensable tool that summarizes a lot of the macros in a printable two-pager, bookmark it ... it is your friend for life if you go deeper into using it!"
   ]
  },
  {
   "cell_type": "markdown",
   "metadata": {},
   "source": [
    "### Code narratives\n",
    "\n",
    "The strength of Jupyter is apparent, when looking at what it can do to help you build interactive documents that aim to support computational work. Let's just work through a real example ... where we will:\n",
    "\n",
    "* get USGS earthquake data,\n",
    "* explore this data for the highest magnitude earthquakes (let's say the top 10)\n",
    "* put those earthquakes on an interactive map."
   ]
  },
  {
   "cell_type": "markdown",
   "metadata": {},
   "source": [
    "**A Data Exploration of Earthquakes**\n",
    "\n",
    "Let's say we are interested in programmatically obtaining the largest earthquakes in the 2016.\n",
    "\n",
    "Luckily the [USGS has an API](https://earthquake.usgs.gov/fdsnws/event/1/) to do most of the heavy lifting for.  We simply need to create a query to the service to ask for all the earthquakes of magnitude 7 or greater in 2016 and then we'll filter them on some additional magnitude criterion on our own."
   ]
  },
  {
   "cell_type": "markdown",
   "metadata": {},
   "source": [
    "We'll first make the request, using the [documentation]() as a guide"
   ]
  },
  {
   "cell_type": "code",
   "execution_count": 1,
   "metadata": {
    "collapsed": false
   },
   "outputs": [],
   "source": [
    "import requests\n",
    "r = requests.get(\"https://earthquake.usgs.gov/fdsnws/event/1/query?format=geojson&starttime=2016-01-01&endtime=2017-01-01&minmagnitude=7\")"
   ]
  },
  {
   "cell_type": "markdown",
   "metadata": {},
   "source": [
    "Let's store the data in a variable named `data`:"
   ]
  },
  {
   "cell_type": "code",
   "execution_count": 2,
   "metadata": {
    "collapsed": false
   },
   "outputs": [],
   "source": [
    "data = r.json()"
   ]
  },
  {
   "cell_type": "markdown",
   "metadata": {},
   "source": [
    "And quickly inspect it (it should be in [GeoJSON](http://geojson.org)) ..."
   ]
  },
  {
   "cell_type": "code",
   "execution_count": 3,
   "metadata": {
    "collapsed": false
   },
   "outputs": [
    {
     "name": "stdout",
     "output_type": "stream",
     "text": [
      "{'type': 'FeatureCollection', 'metadata': {'generated': 1496342529000, 'url': 'https://earthquake.usgs.gov/fdsnws/event/1/query?format=geojson&starttime=2016-01-01&endtime=2017-01-01&minmagnitude=7', 'title': 'USGS Earthquakes', 'status': 200, 'api': '1.5.7', 'count': 16}, 'features': [{'type': 'Feature', 'properties': {'mag': 7.6, 'place': '41km SW of Puerto Quellon, Chile', 'time': 1482675747010, 'updated': 1490309522040, 'tz': -240, 'url': 'https://earthquake.usgs.gov/earthquakes/eventpage/us10007mn3', 'detail': 'https://earthquake.usgs.gov/fdsnws/event/1/query?eventid=us10007mn3&format=geojson', 'felt': 265, 'cdi': 9.1, 'mmi': 7.8, 'alert': 'yellow', 'status': 'reviewed', 'tsunami': 1, 'sig': 1130, 'net': 'us', 'code': '10007mn3', 'ids': ',at00oiqvxe,pt16360050,us10007mn3,', 'sources': ',at,pt,us,', 'types': ',dyfi,finite-fault,general-text,geoserve,impact-link,impact-text,losspager,moment-tensor,origin,phase-data,poster,shakemap,', 'nst': None, 'dmin': 0.355, 'rms': 0.79, 'gap': 29, 'magType': 'mww', 'type': 'earthquake', 'title': 'M 7.6 - 41km SW of Puerto Quellon, Chile'}, 'geometry': {'type': 'Point', 'coordinates': [-73.9413, -43.4064, 38]}, 'id': 'us10007mn3'}, {'type': 'Feature', 'properties': {'mag': 7.9, 'place': '54km E of Taron, Papua New Guinea', 'time': 1481971870500, 'updated': 1489631484040, 'tz': 600, 'url': 'https://earthquake.usgs.gov/earthquakes/eventpage/us200081v8', 'detail': 'https://earthquake.usgs.gov/fdsnws/event/1/query?eventid=us200081v8&format=geojson', 'felt': 15, 'cdi': 8.7, 'mmi': 8.1, 'alert': 'yellow', 'status': 'reviewed', 'tsunami': 1, 'sig': 973, 'net': 'us', 'code': '200081v8', 'ids': ',pt16352050,us200081v8,at00oibstb,', 'sources': ',pt,us,at,', 'types': ',dyfi,finite-fault,general-text,geoserve,impact-link,impact-text,losspager,moment-tensor,origin,phase-data,poster,shakemap,', 'nst': None, 'dmin': 1.389, 'rms': 0.97, 'gap': 13, 'magType': 'mww', 'type': 'earthquake', 'title': 'M 7.9 - 54km E of Taron, Papua New Guinea'}, 'geometry': {'type': 'Point', 'coordinates': [153.5216, -4.5049, 94.54]}, 'id': 'us200081v8'}, {'type': 'Feature', 'properties': {'mag': 7.8, 'place': '69km WSW of Kirakira, Solomon Islands', 'time': 1481218726280, 'updated': 1488524768040, 'tz': 660, 'url': 'https://earthquake.usgs.gov/earthquakes/eventpage/us20007z80', 'detail': 'https://earthquake.usgs.gov/fdsnws/event/1/query?eventid=us20007z80&format=geojson', 'felt': 28, 'cdi': 9.1, 'mmi': 7.82, 'alert': 'green', 'status': 'reviewed', 'tsunami': 1, 'sig': 961, 'net': 'us', 'code': '20007z80', 'ids': ',at00ohvnon,us20007z80,pt16343053,', 'sources': ',at,us,pt,', 'types': ',dyfi,finite-fault,general-text,geoserve,impact-link,impact-text,losspager,moment-tensor,origin,phase-data,poster,shakemap,', 'nst': None, 'dmin': 1.836, 'rms': 0.88, 'gap': 13, 'magType': 'mww', 'type': 'earthquake', 'title': 'M 7.8 - 69km WSW of Kirakira, Solomon Islands'}, 'geometry': {'type': 'Point', 'coordinates': [161.3273, -10.6812, 40]}, 'id': 'us20007z80'}, {'type': 'Feature', 'properties': {'mag': 7.8, 'place': '54km NNE of Amberley, New Zealand', 'time': 1479034976340, 'updated': 1486883416123, 'tz': 720, 'url': 'https://earthquake.usgs.gov/earthquakes/eventpage/us1000778i', 'detail': 'https://earthquake.usgs.gov/fdsnws/event/1/query?eventid=us1000778i&format=geojson', 'felt': 708, 'cdi': 9.1, 'mmi': 8.85, 'alert': 'orange', 'status': 'reviewed', 'tsunami': 1, 'sig': 1644, 'net': 'us', 'code': '1000778i', 'ids': ',at00ogkuoy,us1000778i,', 'sources': ',at,us,', 'types': ',cap,dyfi,finite-fault,general-link,general-text,geoserve,impact-link,impact-text,losspager,moment-tensor,origin,phase-data,poster,scitech-link,shakemap,', 'nst': None, 'dmin': 0.481, 'rms': 0.56, 'gap': 21, 'magType': 'mww', 'type': 'earthquake', 'title': 'M 7.8 - 54km NNE of Amberley, New Zealand'}, 'geometry': {'type': 'Point', 'coordinates': [173.054, -42.7373, 15.11]}, 'id': 'us1000778i'}, {'type': 'Feature', 'properties': {'mag': 7, 'place': '175km NE of Gisborne, New Zealand', 'time': 1472747877300, 'updated': 1486511457758, 'tz': 720, 'url': 'https://earthquake.usgs.gov/earthquakes/eventpage/us10006jbi', 'detail': 'https://earthquake.usgs.gov/fdsnws/event/1/query?eventid=us10006jbi&format=geojson', 'felt': 292, 'cdi': 4.9, 'mmi': 6.11, 'alert': 'green', 'status': 'reviewed', 'tsunami': 1, 'sig': 897, 'net': 'us', 'code': '10006jbi', 'ids': ',at00ocu3ja,pt16245050,us10006jbi,gcmt20160901163757,', 'sources': ',at,pt,us,gcmt,', 'types': ',cap,dyfi,finite-fault,general-link,general-text,geoserve,impact-link,impact-text,losspager,moment-tensor,origin,phase-data,poster,shakemap,', 'nst': None, 'dmin': 0.698, 'rms': 0.88, 'gap': 21, 'magType': 'mww', 'type': 'earthquake', 'title': 'M 7.0 - 175km NE of Gisborne, New Zealand'}, 'geometry': {'type': 'Point', 'coordinates': [179.1461, -37.3586, 19]}, 'id': 'us10006jbi'}, {'type': 'Feature', 'properties': {'mag': 7.1, 'place': 'North of Ascension Island', 'time': 1472444997860, 'updated': 1486511450814, 'tz': -60, 'url': 'https://earthquake.usgs.gov/earthquakes/eventpage/us20006uy6', 'detail': 'https://earthquake.usgs.gov/fdsnws/event/1/query?eventid=us20006uy6&format=geojson', 'felt': 8, 'cdi': 3.4, 'mmi': 0, 'alert': 'green', 'status': 'reviewed', 'tsunami': 1, 'sig': 778, 'net': 'us', 'code': '20006uy6', 'ids': ',at00ocnltz,us20006uy6,gcmt20160829042957,', 'sources': ',at,us,gcmt,', 'types': ',cap,dyfi,finite-fault,general-link,general-text,geoserve,impact-link,impact-text,losspager,moment-tensor,origin,phase-data,poster,shakemap,', 'nst': None, 'dmin': 8.561, 'rms': 0.87, 'gap': 24, 'magType': 'mww', 'type': 'earthquake', 'title': 'M 7.1 - North of Ascension Island'}, 'geometry': {'type': 'Point', 'coordinates': [-17.8255, -0.0456, 10]}, 'id': 'us20006uy6'}, {'type': 'Feature', 'properties': {'mag': 7.4, 'place': 'South Georgia Island region', 'time': 1471591942710, 'updated': 1486511443677, 'tz': -120, 'url': 'https://earthquake.usgs.gov/earthquakes/eventpage/us10006exl', 'detail': 'https://earthquake.usgs.gov/fdsnws/event/1/query?eventid=us10006exl&format=geojson', 'felt': 1, 'cdi': 2.7, 'mmi': 0, 'alert': 'green', 'status': 'reviewed', 'tsunami': 0, 'sig': 843, 'net': 'us', 'code': '10006exl', 'ids': ',us10006exl,gcmt20160819073222,', 'sources': ',us,gcmt,', 'types': ',cap,dyfi,finite-fault,general-link,general-text,geoserve,impact-text,losspager,moment-tensor,origin,phase-data,poster,shakemap,', 'nst': None, 'dmin': 2.852, 'rms': 0.79, 'gap': 18, 'magType': 'mww', 'type': 'earthquake', 'title': 'M 7.4 - South Georgia Island region'}, 'geometry': {'type': 'Point', 'coordinates': [-31.8766, -55.2852, 10]}, 'id': 'us10006exl'}, {'type': 'Feature', 'properties': {'mag': 7.2, 'place': '110km E of Ile Hunter, New Caledonia', 'time': 1470965196280, 'updated': 1486511438119, 'tz': 720, 'url': 'https://earthquake.usgs.gov/earthquakes/eventpage/us10006d5h', 'detail': 'https://earthquake.usgs.gov/fdsnws/event/1/query?eventid=us10006d5h&format=geojson', 'felt': 2, 'cdi': 6.2, 'mmi': 5.1, 'alert': 'green', 'status': 'reviewed', 'tsunami': 1, 'sig': 799, 'net': 'us', 'code': '10006d5h', 'ids': ',at00obrw0f,pt16225050,us10006d5h,gcmt20160812012635,', 'sources': ',at,pt,us,gcmt,', 'types': ',cap,dyfi,finite-fault,general-link,general-text,geoserve,impact-link,impact-text,losspager,moment-tensor,origin,phase-data,poster,shakemap,', 'nst': None, 'dmin': 4.823, 'rms': 0.9, 'gap': 14, 'magType': 'mww', 'type': 'earthquake', 'title': 'M 7.2 - 110km E of Ile Hunter, New Caledonia'}, 'geometry': {'type': 'Point', 'coordinates': [173.1167, -22.4765, 16.37]}, 'id': 'us10006d5h'}, {'type': 'Feature', 'properties': {'mag': 7.7, 'place': '29km SW of Agrihan, Northern Mariana Islands', 'time': 1469827104740, 'updated': 1486511415901, 'tz': 600, 'url': 'https://earthquake.usgs.gov/earthquakes/eventpage/us100068jg', 'detail': 'https://earthquake.usgs.gov/fdsnws/event/1/query?eventid=us100068jg&format=geojson', 'felt': 129, 'cdi': 4.6, 'mmi': 6.33, 'alert': 'green', 'status': 'reviewed', 'tsunami': 1, 'sig': 971, 'net': 'us', 'code': '100068jg', 'ids': ',at00ob3huo,us100068jg,gcmt20160729211825,', 'sources': ',at,us,gcmt,', 'types': ',cap,dyfi,finite-fault,general-link,general-text,geoserve,impact-link,impact-text,losspager,moment-tensor,nearby-cities,origin,phase-data,poster,shakemap,tectonic-summary,', 'nst': None, 'dmin': 3.294, 'rms': 1.38, 'gap': 14, 'magType': 'mww', 'type': 'earthquake', 'title': 'M 7.7 - 29km SW of Agrihan, Northern Mariana Islands'}, 'geometry': {'type': 'Point', 'coordinates': [145.5073, 18.5429, 196]}, 'id': 'us100068jg'}, {'type': 'Feature', 'properties': {'mag': 7.2, 'place': '53km NNE of Visokoi Island, South Georgia and the South Sandwich Islands', 'time': 1464428819780, 'updated': 1486511394060, 'tz': -120, 'url': 'https://earthquake.usgs.gov/earthquakes/eventpage/us20005ysu', 'detail': 'https://earthquake.usgs.gov/fdsnws/event/1/query?eventid=us20005ysu&format=geojson', 'felt': 0, 'cdi': 1, 'mmi': 6.01, 'alert': 'green', 'status': 'reviewed', 'tsunami': 1, 'sig': 798, 'net': 'us', 'code': '20005ysu', 'ids': ',at00o7vsif,us20005ysu,gcmt20160528094659,', 'sources': ',at,us,gcmt,', 'types': ',cap,dyfi,finite-fault,general-link,general-text,geoserve,impact-link,losspager,moment-tensor,nearby-cities,origin,phase-data,poster,shakemap,', 'nst': None, 'dmin': 5.803, 'rms': 0.89, 'gap': 24, 'magType': 'mww', 'type': 'earthquake', 'title': 'M 7.2 - 53km NNE of Visokoi Island, South Georgia and the South Sandwich Islands'}, 'geometry': {'type': 'Point', 'coordinates': [-26.9353, -56.2409, 78]}, 'id': 'us20005ysu'}, {'type': 'Feature', 'properties': {'mag': 7, 'place': '2km N of Norsup, Vanuatu', 'time': 1461872004070, 'updated': 1486511387232, 'tz': 660, 'url': 'https://earthquake.usgs.gov/earthquakes/eventpage/us10005c88', 'detail': 'https://earthquake.usgs.gov/fdsnws/event/1/query?eventid=us10005c88&format=geojson', 'felt': 2, 'cdi': 6.8, 'mmi': 6.5, 'alert': 'green', 'status': 'reviewed', 'tsunami': 1, 'sig': 755, 'net': 'us', 'code': '10005c88', 'ids': ',pt16119051,at00o6cznp,us10005c88,gcmt20160428193324,', 'sources': ',pt,at,us,gcmt,', 'types': ',cap,dyfi,finite-fault,general-link,general-text,geoserve,impact-link,impact-text,losspager,moment-tensor,nearby-cities,origin,phase-data,poster,shakemap,tectonic-summary,trump-moment-tensor,', 'nst': None, 'dmin': 0.616, 'rms': 1.33, 'gap': 14, 'magType': 'mww', 'type': 'earthquake', 'title': 'M 7.0 - 2km N of Norsup, Vanuatu'}, 'geometry': {'type': 'Point', 'coordinates': [167.3786, -16.0429, 24]}, 'id': 'us10005c88'}, {'type': 'Feature', 'properties': {'mag': 7.8, 'place': '27km SSE of Muisne, Ecuador', 'time': 1460851116980, 'updated': 1492539986581, 'tz': -300, 'url': 'https://earthquake.usgs.gov/earthquakes/eventpage/us20005j32', 'detail': 'https://earthquake.usgs.gov/fdsnws/event/1/query?eventid=us20005j32&format=geojson', 'felt': 192, 'cdi': 9.1, 'mmi': 8.08, 'alert': 'orange', 'status': 'reviewed', 'tsunami': 1, 'sig': 1175, 'net': 'us', 'code': '20005j32', 'ids': ',at00o5r3xd,us20005j32,pt16107050,gcmt20160416235837,', 'sources': ',at,us,pt,gcmt,', 'types': ',cap,dyfi,finite-fault,general-link,general-text,geoserve,impact-link,impact-text,losspager,moment-tensor,nearby-cities,origin,phase-data,poster,shakemap,tectonic-summary,', 'nst': None, 'dmin': 1.44, 'rms': 0.94, 'gap': 15, 'magType': 'mww', 'type': 'earthquake', 'title': 'M 7.8 - 27km SSE of Muisne, Ecuador'}, 'geometry': {'type': 'Point', 'coordinates': [-79.9218, 0.3819, 20.59]}, 'id': 'us20005j32'}, {'type': 'Feature', 'properties': {'mag': 7, 'place': '1km E of Kumamoto-shi, Japan', 'time': 1460737506220, 'updated': 1490760271516, 'tz': 540, 'url': 'https://earthquake.usgs.gov/earthquakes/eventpage/us20005iis', 'detail': 'https://earthquake.usgs.gov/fdsnws/event/1/query?eventid=us20005iis&format=geojson', 'felt': 67, 'cdi': 8.4, 'mmi': 9.3, 'alert': 'red', 'status': 'reviewed', 'tsunami': 1, 'sig': 2056, 'net': 'us', 'code': '20005iis', 'ids': ',at00o5oo9v,pt16106053,us20005iis,gcmt20160415162506,', 'sources': ',at,pt,us,gcmt,', 'types': ',cap,dyfi,finite-fault,general-link,general-text,geoserve,impact-link,impact-text,losspager,moment-tensor,nearby-cities,origin,phase-data,poster,scitech-link,shakemap,tectonic-summary,', 'nst': None, 'dmin': 0.349, 'rms': 0.85, 'gap': 32, 'magType': 'mww', 'type': 'earthquake', 'title': 'M 7.0 - 1km E of Kumamoto-shi, Japan'}, 'geometry': {'type': 'Point', 'coordinates': [130.7543, 32.7906, 10]}, 'id': 'us20005iis'}, {'type': 'Feature', 'properties': {'mag': 7.8, 'place': 'Southwest of Sumatra, Indonesia', 'time': 1456922988110, 'updated': 1486511353268, 'tz': 360, 'url': 'https://earthquake.usgs.gov/earthquakes/eventpage/us10004u1y', 'detail': 'https://earthquake.usgs.gov/fdsnws/event/1/query?eventid=us10004u1y&format=geojson', 'felt': 30, 'cdi': 3.8, 'mmi': 3.07, 'alert': 'green', 'status': 'reviewed', 'tsunami': 1, 'sig': 947, 'net': 'us', 'code': '10004u1y', 'ids': ',us10004u1y,gcmt20160302124948,', 'sources': ',us,gcmt,', 'types': ',dyfi,finite-fault,general-link,general-text,geoserve,impact-text,losspager,moment-tensor,nearby-cities,origin,phase-data,poster,shakemap,tectonic-summary,', 'nst': None, 'dmin': 7.009, 'rms': 1.14, 'gap': 20, 'magType': 'mww', 'type': 'earthquake', 'title': 'M 7.8 - Southwest of Sumatra, Indonesia'}, 'geometry': {'type': 'Point', 'coordinates': [94.3299, -4.9521, 24]}, 'id': 'us10004u1y'}, {'type': 'Feature', 'properties': {'mag': 7.2, 'place': '88km N of Yelizovo, Russia', 'time': 1454124312220, 'updated': 1486511313778, 'tz': 720, 'url': 'https://earthquake.usgs.gov/earthquakes/eventpage/us20004vvx', 'detail': 'https://earthquake.usgs.gov/fdsnws/event/1/query?eventid=us20004vvx&format=geojson', 'felt': 2, 'cdi': 3.4, 'mmi': 5.82, 'alert': 'green', 'status': 'reviewed', 'tsunami': 1, 'sig': 798, 'net': 'us', 'code': '20004vvx', 'ids': ',gcmt20160130032510,at00o1qxho,pt16030050,us20004vvx,gcmt20160130032512,', 'sources': ',gcmt,at,pt,us,gcmt,', 'types': ',associate,cap,dyfi,finite-fault,general-link,general-text,geoserve,impact-link,impact-text,losspager,moment-tensor,nearby-cities,origin,phase-data,shakemap,tectonic-summary,', 'nst': None, 'dmin': 0.958, 'rms': 1.19, 'gap': 17, 'magType': 'mww', 'type': 'earthquake', 'title': 'M 7.2 - 88km N of Yelizovo, Russia'}, 'geometry': {'type': 'Point', 'coordinates': [158.5463, 53.9776, 177]}, 'id': 'us20004vvx'}, {'type': 'Feature', 'properties': {'mag': 7.1, 'place': '86km E of Old Iliamna, Alaska', 'time': 1453631430230, 'updated': 1486511256806, 'tz': -540, 'url': 'https://earthquake.usgs.gov/earthquakes/eventpage/us10004gqp', 'detail': 'https://earthquake.usgs.gov/fdsnws/event/1/query?eventid=us10004gqp&format=geojson', 'felt': 1816, 'cdi': 7.2, 'mmi': 6.6, 'alert': 'green', 'status': 'reviewed', 'tsunami': 1, 'sig': 1496, 'net': 'us', 'code': '10004gqp', 'ids': ',at00o1gd6r,us10004gqp,ak12496371,gcmt20160124103030,', 'sources': ',at,us,ak,gcmt,', 'types': ',cap,dyfi,finite-fault,general-link,general-text,geoserve,impact-link,impact-text,losspager,moment-tensor,nearby-cities,origin,phase-data,shakemap,tectonic-summary,trump-origin,', 'nst': None, 'dmin': 0.72, 'rms': 2.11, 'gap': 19, 'magType': 'mww', 'type': 'earthquake', 'title': 'M 7.1 - 86km E of Old Iliamna, Alaska'}, 'geometry': {'type': 'Point', 'coordinates': [-153.4051, 59.6363, 129]}, 'id': 'us10004gqp'}], 'bbox': [-153.4051, -56.2409, 10, 179.1461, 59.6363, 196]}\n"
     ]
    }
   ],
   "source": [
    "print(data) # yup, looks like GeoJSON"
   ]
  },
  {
   "cell_type": "markdown",
   "metadata": {},
   "source": [
    "This data (pretty printed for readability) looks like:\n",
    "```json\n",
    "{\n",
    "    \"type\": \"FeatureCollection\",\n",
    "    \"metadata\": {\n",
    "        \"generated\": 1496339846000,\n",
    "        \"url\": \"https://earthquake.usgs.gov/fdsnws/event/1/query?format=geojson&starttime=2016-01-01&endtime=2017-01-01&minmagnitude=7\",\n",
    "        \"title\": \"USGS Earthquakes\",\n",
    "        \"status\": 200,\n",
    "        \"api\": \"1.5.7\",\n",
    "        \"count\": 16\n",
    "    },\n",
    "    \"features\": [\n",
    "        {\n",
    "            \"type\": \"Feature\",\n",
    "            \"properties\": {\n",
    "                \"mag\": 7.6,\n",
    "                \"place\": \"41km SW of Puerto Quellon, Chile\",\n",
    "                \"time\": 1482675747010,\n",
    "                \"updated\": 1490309522040,\n",
    "                \"tz\": -240,\n",
    "                \"url\": \"https://earthquake.usgs.gov/earthquakes/eventpage/us10007mn3\",\n",
    "                \"detail\": \"https://earthquake.usgs.gov/fdsnws/event/1/query?eventid=us10007mn3&format=geojson\",\n",
    "                \"felt\": 265,\n",
    "                \"cdi\": 9.1,\n",
    "                \"mmi\": 7.8,\n",
    "                \"alert\": \"yellow\",\n",
    "                \"status\": \"reviewed\",\n",
    "                \"tsunami\": 1,\n",
    "                \"sig\": 1130,\n",
    "                \"net\": \"us\",\n",
    "                \"code\": \"10007mn3\",\n",
    "                \"ids\": \",at00oiqvxe,pt16360050,us10007mn3,\",\n",
    "                \"sources\": \",at,pt,us,\",\n",
    "                \"types\": \",dyfi,finite-fault,general-text,geoserve,impact-link,impact-text,losspager,moment-tensor,origin,phase-data,poster,shakemap,\",\n",
    "                \"nst\": null,\n",
    "                \"dmin\": 0.355,\n",
    "                \"rms\": 0.79,\n",
    "                \"gap\": 29,\n",
    "                \"magType\": \"mww\",\n",
    "                \"type\": \"earthquake\",\n",
    "                \"title\": \"M 7.6 - 41km SW of Puerto Quellon, Chile\"\n",
    "            },\n",
    "            \"geometry\": {\n",
    "                \"type\": \"Point\",\n",
    "                \"coordinates\": [\n",
    "                    -73.9413,\n",
    "                    -43.4064,\n",
    "                    38\n",
    "                ]\n",
    "            },\n",
    "            \"id\": \"us10007mn3\"\n",
    "        }, ...\n",
    "```"
   ]
  },
  {
   "cell_type": "markdown",
   "metadata": {},
   "source": [
    "Without going into tremendous detail here, we would like to iterate over this data and grab the following information:\n",
    "\n",
    "* the **magnitude** of the earthquake,\n",
    "* the **USGS location name** of that place (in English), and \n",
    "* the **lat/lon coordinates** so we can plot on the map.\n",
    "\n",
    "**ALL** of this information is in our `data` object, so let's get to it:"
   ]
  },
  {
   "cell_type": "code",
   "execution_count": 4,
   "metadata": {
    "collapsed": false
   },
   "outputs": [
    {
     "name": "stdout",
     "output_type": "stream",
     "text": [
      "41km SW of Puerto Quellon, Chile\t7.6\t-73.9413\t-43.4064\n",
      "54km E of Taron, Papua New Guinea\t7.9\t153.5216\t-4.5049\n",
      "69km WSW of Kirakira, Solomon Islands\t7.8\t161.3273\t-10.6812\n",
      "54km NNE of Amberley, New Zealand\t7.8\t173.054\t-42.7373\n",
      "175km NE of Gisborne, New Zealand\t7\t179.1461\t-37.3586\n",
      "North of Ascension Island\t7.1\t-17.8255\t-0.0456\n",
      "South Georgia Island region\t7.4\t-31.8766\t-55.2852\n",
      "110km E of Ile Hunter, New Caledonia\t7.2\t173.1167\t-22.4765\n",
      "29km SW of Agrihan, Northern Mariana Islands\t7.7\t145.5073\t18.5429\n",
      "53km NNE of Visokoi Island, South Georgia and the South Sandwich Islands\t7.2\t-26.9353\t-56.2409\n",
      "2km N of Norsup, Vanuatu\t7\t167.3786\t-16.0429\n",
      "27km SSE of Muisne, Ecuador\t7.8\t-79.9218\t0.3819\n",
      "1km E of Kumamoto-shi, Japan\t7\t130.7543\t32.7906\n",
      "Southwest of Sumatra, Indonesia\t7.8\t94.3299\t-4.9521\n",
      "88km N of Yelizovo, Russia\t7.2\t158.5463\t53.9776\n",
      "86km E of Old Iliamna, Alaska\t7.1\t-153.4051\t59.6363\n"
     ]
    }
   ],
   "source": [
    "for f in data['features']:\n",
    "    place = f['properties']['place']\n",
    "    magnitude = f['properties']['mag']\n",
    "    lat, lon, z = f['geometry']['coordinates']\n",
    "    \n",
    "    print(\"{}\\t{}\\t{}\\t{}\".format(place, magnitude, lat, lon))"
   ]
  },
  {
   "cell_type": "markdown",
   "metadata": {},
   "source": [
    "For the purposes of our demo, we need not store this information in any special way.  We'll return to the data and our final task of plotting this on an _interactive_ map.  We'll use the library [folium](https://folium.readthedocs.io/en/latest/) to get the trick done as easily as possible."
   ]
  },
  {
   "cell_type": "code",
   "execution_count": 5,
   "metadata": {
    "collapsed": false
   },
   "outputs": [],
   "source": [
    "import folium\n",
    "map_eq = folium.Map(location=[37.733795, -122.446747], zoom_start=2)"
   ]
  },
  {
   "cell_type": "code",
   "execution_count": 6,
   "metadata": {
    "collapsed": false,
    "scrolled": true
   },
   "outputs": [
    {
     "data": {
      "text/html": [
       "<div style=\"width:100%;\"><div style=\"position:relative;width:100%;height:0;padding-bottom:60%;\"><iframe src=\"data:text/html;charset=utf-8;base64,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\" style=\"position:absolute;width:100%;height:100%;left:0;top:0;border:none !important;\" allowfullscreen webkitallowfullscreen mozallowfullscreen></iframe></div></div>"
      ],
      "text/plain": [
       "<folium.folium.Map at 0x63d5a90>"
      ]
     },
     "execution_count": 6,
     "metadata": {},
     "output_type": "execute_result"
    }
   ],
   "source": [
    "for f in data['features']:\n",
    "    place = f['properties']['place']\n",
    "    magnitude = f['properties']['mag']\n",
    "    lat, lon, z = f['geometry']['coordinates']\n",
    "\n",
    "    # place the data on the map!\n",
    "    folium.Marker([lon, lat], popup='place:{}\\nmagnitude:{}'.format(place, magnitude)).add_to(map_eq)\n",
    "map_eq"
   ]
  },
  {
   "cell_type": "markdown",
   "metadata": {},
   "source": [
    "Cool!"
   ]
  },
  {
   "cell_type": "markdown",
   "metadata": {},
   "source": [
    "## Jupyter Notebooks: When?\n",
    "\n",
    "Jupyter Notebooks can be used in a variety of contexts, only a few of which are mentioned below:\n",
    "\n",
    "* documenting homework,\n",
    "* documenting an algorithm or research methodology,\n",
    "* writing a paper that is about code or a dataset,\n",
    "* developing and documenting a research idea that explores a theoretical result backed by an implementation (code),\n",
    "* exploring and documenting a dataset or an algorithm on a specific dataset,\n",
    "* testing code,\n",
    "* playing with code,\n",
    "* and many other contexts.\n"
   ]
  },
  {
   "cell_type": "markdown",
   "metadata": {},
   "source": [
    "## Resources\n",
    "The best place to begin learning how to use Jupyter is to go directly to \n",
    "\n",
    "* the [Jupyter.org](https://jupyter.org) site,\n",
    "* but for inspiration see the [gallery of Jupyter examples](https://github.com/jupyter/jupyter/wiki/A-gallery-of-interesting-Jupyter-Notebooks)\n",
    "* and some for [Earth Sciences](https://github.com/jupyter/jupyter/wiki/A-gallery-of-interesting-Jupyter-Notebooks#earth-science-and-geo-spatial-data-1) notebooks examples,\n",
    "* and another [general gallery](http://nb.bianp.net/sort/views/), \n",
    "* and many, many more you may find and explore on your own ..."
   ]
  }
 ],
 "metadata": {
  "kernelspec": {
   "display_name": "Python 3",
   "language": "python",
   "name": "python3"
  },
  "language_info": {
   "codemirror_mode": {
    "name": "ipython",
    "version": 3
   },
   "file_extension": ".py",
   "mimetype": "text/x-python",
   "name": "python",
   "nbconvert_exporter": "python",
   "pygments_lexer": "ipython3",
   "version": "3.6.0"
  },
  "toc": {
   "colors": {
    "hover_highlight": "#DAA520",
    "navigate_num": "#000000",
    "navigate_text": "#333333",
    "running_highlight": "#FF0000",
    "selected_highlight": "#FFD700",
    "sidebar_border": "#EEEEEE",
    "wrapper_background": "#FFFFFF"
   },
   "moveMenuLeft": true,
   "nav_menu": {
    "height": "213px",
    "width": "252px"
   },
   "navigate_menu": true,
   "number_sections": false,
   "sideBar": true,
   "threshold": 4,
   "toc_cell": true,
   "toc_section_display": "block",
   "toc_window_display": true,
   "widenNotebook": false
  }
 },
 "nbformat": 4,
 "nbformat_minor": 2
}
