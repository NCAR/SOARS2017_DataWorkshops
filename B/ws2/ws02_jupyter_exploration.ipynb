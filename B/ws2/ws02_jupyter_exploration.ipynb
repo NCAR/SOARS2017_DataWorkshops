{
 "cells": [
  {
   "cell_type": "markdown",
   "metadata": {
    "toc": "true"
   },
   "source": [
    "# Table of Contents\n",
    " <p><div class=\"lev1 toc-item\"><a href=\"#Workshop-2-:-Jupyter-as-a-research-and-writing-tool\" data-toc-modified-id=\"Workshop-2-:-Jupyter-as-a-research-and-writing-tool-1\"><span class=\"toc-item-num\">1&nbsp;&nbsp;</span>Workshop 2 : Jupyter as a research and writing tool</a></div><div class=\"lev2 toc-item\"><a href=\"#Prerequisites\" data-toc-modified-id=\"Prerequisites-11\"><span class=\"toc-item-num\">1.1&nbsp;&nbsp;</span>Prerequisites</a></div><div class=\"lev2 toc-item\"><a href=\"#Objectives\" data-toc-modified-id=\"Objectives-12\"><span class=\"toc-item-num\">1.2&nbsp;&nbsp;</span>Objectives</a></div><div class=\"lev2 toc-item\"><a href=\"#Jupyter-as-a-research-tool\" data-toc-modified-id=\"Jupyter-as-a-research-tool-13\"><span class=\"toc-item-num\">1.3&nbsp;&nbsp;</span>Jupyter as a research tool</a></div><div class=\"lev2 toc-item\"><a href=\"#Some-(Jupyter)-Narratives-Best-Practices\" data-toc-modified-id=\"Some-(Jupyter)-Narratives-Best-Practices-14\"><span class=\"toc-item-num\">1.4&nbsp;&nbsp;</span>Some (Jupyter) Narratives Best Practices</a></div><div class=\"lev2 toc-item\"><a href=\"#Writing-Math-Narratives\" data-toc-modified-id=\"Writing-Math-Narratives-15\"><span class=\"toc-item-num\">1.5&nbsp;&nbsp;</span>Writing Math Narratives</a></div><div class=\"lev2 toc-item\"><a href=\"#Enhancing-productivity-with-NBExtensions\" data-toc-modified-id=\"Enhancing-productivity-with-NBExtensions-16\"><span class=\"toc-item-num\">1.6&nbsp;&nbsp;</span>Enhancing productivity with NBExtensions</a></div><div class=\"lev2 toc-item\"><a href=\"#Exporting-publication-quality-graphs\" data-toc-modified-id=\"Exporting-publication-quality-graphs-17\"><span class=\"toc-item-num\">1.7&nbsp;&nbsp;</span>Exporting publication quality graphs</a></div><div class=\"lev2 toc-item\"><a href=\"#Publishing-notebooks\" data-toc-modified-id=\"Publishing-notebooks-18\"><span class=\"toc-item-num\">1.8&nbsp;&nbsp;</span>Publishing notebooks</a></div><div class=\"lev3 toc-item\"><a href=\"#Github\" data-toc-modified-id=\"Github-181\"><span class=\"toc-item-num\">1.8.1&nbsp;&nbsp;</span>Github</a></div><div class=\"lev3 toc-item\"><a href=\"#NBViewer\" data-toc-modified-id=\"NBViewer-182\"><span class=\"toc-item-num\">1.8.2&nbsp;&nbsp;</span>NBViewer</a></div><div class=\"lev3 toc-item\"><a href=\"#Markdown-and-HTML\" data-toc-modified-id=\"Markdown-and-HTML-183\"><span class=\"toc-item-num\">1.8.3&nbsp;&nbsp;</span>Markdown and HTML</a></div><div class=\"lev3 toc-item\"><a href=\"#PDF-and-Pandoc\" data-toc-modified-id=\"PDF-and-Pandoc-184\"><span class=\"toc-item-num\">1.8.4&nbsp;&nbsp;</span>PDF and Pandoc</a></div>"
   ]
  },
  {
   "cell_type": "markdown",
   "metadata": {},
   "source": [
    "# Workshop 2 : Jupyter as a research and writing tool\n",
    "\n",
    "## Prerequisites\n",
    "* Jupyter Notebooks installed and running\n",
    "\n",
    "## Objectives\n",
    "\n",
    "* understand how Jupyter can be used as a research tool\n",
    "* obtain hands on experience with Jupyter for code snippets and sharing with [Github gist](gist.github.com)\n",
    "* obtain hands on experience with Jupyter for writing and math\n",
    "* develop best practices around notebooks\n",
    "* understand some of the productivity enhancing notebook extensions (NBExtensions)\n",
    "* understand how to use Jupyter to produce, refine and export data graphs\n",
    "* (optional) understand other language options in Jupyter (R, IDL)"
   ]
  },
  {
   "cell_type": "markdown",
   "metadata": {},
   "source": [
    "## Jupyter as a research tool\n",
    "\n",
    "[Jupyter Notebooks](https://jupyter.org) are fast becoming one of the standard tools in analytics and scientific data explorations of all kinds.  It has flexibility and strengths in a number of areas, but the area it excels most in is mixing code, narrative and analysis.  \n",
    "\n",
    "The first resource to review is the [Jupyter Notebook flyby](../../A/ws1/ws01e_jupyter.ipynb) from the new prot&eacute;g&eacute;s workshop."
   ]
  },
  {
   "cell_type": "markdown",
   "metadata": {},
   "source": [
    "## Some (Jupyter) Narratives Best Practices\n",
    "\n",
    "Though the majority of your notebooks will be read by a single person (you), collaborative notebooks are surely in your future, and a notebook _intended_ to be reviewed by others is a near certainty.\n",
    "\n",
    "There are a few things that you might _consider_ when building notebooks.\n",
    "\n",
    "> **Try building the narrative from the beginning - tell the story throughout and explain the backstory adequately.**\n",
    "\n",
    "If you start your notebook as if you're trying to explain what you're doing to someone you'd like to replicate your work, you're well on your way to following this tip.  An advantage of approaching notebooks this way from the start is that if you stop and have an extended hiatus from the work in the notebook, you will easily be able to get up to speed again if you've told the story from the beginning.  Similarly, if someone else is to take over your work (or extend it or debug it), this will surely be appreciated.\n",
    "\n",
    "> **Use links liberally throughout our narrative.**\n",
    "\n",
    "Using links throughout your notebook not only help you determine where you have found something, but it also allows you to remember places where good resources live.  You will find that when you tune in to _where_ you are finding how to do something and _how_ you are using that in your work, linking only makes sense, and in many cases it beats bookmarking.\n",
    "\n",
    ">  **Use images and animations in your narrative when appropriate.**\n",
    "\n",
    "Sometimes when you're explaining something, it is valuable to include an image of it.  Whether it be a website, a visualization of data or even and animated gif.  If you're on a PC tools like [ShareX](http://getsharex.com/) and [Greenshot](http://getgreenshot.org/) allow you to take high quality screenshots and store them as JPG or PNG and also take videos, animated GIFs and other visual outputs.  Using these tools allow you to save files that can bring your notebooks alive in ways that will make the notebook more durable and useful to others (and your future self).\n",
    "\n",
    "> **Write your narrative for others first.**\n",
    "\n",
    "The narratives in your notebook are likely to only be viewed by you, but it makes sense to think about writing it in a voice that is designed for others first.  This will make your work more reusable, but also allows you to re-purpose it more readily for other things (papers, tutorials, workshops, etc.).\n",
    "\n",
    "> **Explain more than you think you need to, but only what is necessary.**\n",
    "\n",
    "Even though you might think over-documenting a notebook is a waste of time, the pattern of explaining more up front only allows you more content to work with later (and revise/cut after review).  Sometimes when exploring data or using an API that is not well documented (or not used often), explaining why it is being used and how it is used is helpful in the future when you don't have time to look up everything again.  This improves your ability to trace your steps and connect the web of tools and techniques you might have used in your inquiry or exploration. \n",
    "\n",
    "Though not a best practice of narratives directly, this one is worth remembering:\n",
    "\n",
    "> **_Store your notebooks in Github, and if they're public, wrap them in NBViewer._**\n",
    "\n",
    "If you're wanting to make your notebooks public, store them in Github (either publicly or privately).  This will help you keep a good handle on the revisions you've made to the notebook and also allow you to have a remote copy of your work, which is usually never a bad thing.  If you store your notebooks on a public repository, use [NBViewer](http://nbviewer.jupyter.org) and provide the link in your `README.md` so that end users can view the notebook as it was intended to be viewed."
   ]
  },
  {
   "cell_type": "markdown",
   "metadata": {},
   "source": [
    "## Writing Math Narratives\n",
    "\n",
    "Writing math narratives in Jupyter is very simple.  Building on the very popular and beautiful $\\LaTeX$ typesetting, you can gain all the benefits of mathematical and technical writing, while keeping documents simple.\n",
    "\n",
    "Try to make your math narratives as explicit and descriptive as possible (you have the space to do so) and when necessary (or appropriate) throw some code into your notebook to demonstrate your math works.  \n",
    "\n",
    "Learning to use $\\LaTeX$ will take time and it can be frustrating to use at first, but you will soon get the hang of it, and there are a number of excellent resources to help  you understand how to use math commands effectively.\n",
    "\n",
    "Check out the [Workshop 1 Jupyter flyby notebook](http://nbviewer.jupyter.org/github/NCAR/SOARS2017_DataWorkshops/blob/master/A/ws1/ws01e_jupyter.ipynb#Math-narratives-with-LaTeX) on Jupyter."
   ]
  },
  {
   "cell_type": "markdown",
   "metadata": {},
   "source": [
    "## Enhancing productivity with NBExtensions\n",
    "\n",
    "The Jupyter ecosystem includes a growing number of user-contributed extensions that help you do everything from produce numbered equations in your notebook to create a table of contents for your entire notebook. The primary location for getting started with NBExtensions is the [Github repository](https://github.com/ipython-contrib/jupyter_contrib_nbextensions) for the project, which will help you install and use extensions that might be of value to you.\n",
    "\n",
    "Here are a few notable extensions:\n",
    "\n",
    "* Table of contents with [toc2](https://github.com/ipython-contrib/jupyter_contrib_nbextensions/tree/master/src/jupyter_contrib_nbextensions/nbextensions/toc2)\n",
    "* Notebook Github gists made easy with [gist it](https://github.com/ipython-contrib/jupyter_contrib_nbextensions/tree/master/src/jupyter_contrib_nbextensions/nbextensions/gist_it)\n",
    "* better [Equation Numbering](https://github.com/ipython-contrib/jupyter_contrib_nbextensions/tree/master/src/jupyter_contrib_nbextensions/nbextensions/equation-numbering)\n",
    "* try using [spellchecker](https://github.com/ipython-contrib/jupyter_contrib_nbextensions/tree/master/src/jupyter_contrib_nbextensions/nbextensions/spellchecker) for good measure in your notebooks"
   ]
  },
  {
   "cell_type": "markdown",
   "metadata": {},
   "source": [
    "## Exporting publication quality graphs\n",
    "\n",
    "If you're using the Pandas `DataFrame.plot()` method (which produces excellent graphs with very little fuss), here is a common pattern you will need to use to get publication quality graphs.  First, you should set the dpi or dots per inch in your output to _no less_ than 300.  At 300dpi you will have a large enough file to use in very larger posters and in high quality journals alike.\n",
    "\n",
    "Here is an example pattern using Pandas:\n",
    "\n",
    "```python\n",
    "df = pd.DataFrame({'one': [1,2,3,4], 'two': [-1,-2,-3,-4]})\n",
    "f = df.plot('one','two')\n",
    "f.figure.savefig('sample_file.png', dpi=300)\n",
    "```\n",
    "\n",
    "You can use `.tif`, `.png` or `.jpg` to store the file as a TIF, PNG or JPG respectively.  All three are widely accepted in publishing."
   ]
  },
  {
   "cell_type": "markdown",
   "metadata": {},
   "source": [
    "## Publishing notebooks\n",
    "\n",
    "Some notebooks you may create are not intended to be made public, but others you will want to, or even be required to, make them public.\n",
    "\n",
    "### Github\n",
    "[Github](https://github.com) as you have already found is a great place to collaborate.  Storing your notebooks there gives you great practice in learning the ins and outs of modern software development and collaboration paradigms.  There are other very good platforms that provide many of the same features as Github (e.g. [BitBucket](https://bitbucket.org), [Gitlab](https://gitlab.org)), but for now Github still dominates the open-source code and collaboration space for large high profile projects.\n",
    "\n",
    "One collaborative aspect of Github that is often overlooked are [Wikis](https://help.github.com/articles/about-github-wikis/) and [Gists](https://help.github.com/articles/about-gists/).  Wikis on Github provide a versionable way to do high quality documentation for your project _separate_ from your code.  See, for example, [ModSecurity](https://github.com/SpiderLabs/ModSecurity/wiki) has a nice wiki that allows users to see the core documentation of the platform.  There are interesting ways to make the documentation of your repository (if it is larger) make good advantage of Wikis.\n",
    "\n",
    "Gists provide a very nice tool for sharing code snippets in progress, files, example configuration files or just about anything else you'd not necessarily not put into your repository yet, but want to share with others.  You can even [gist notebooks](https://gist.github.com/search?l=Jupyter+Notebook&q=ipynb&utf8=✓) and use the gist URL in the NBViewer.  Gists can be secret (only the person with the link can see it, and it is not indexed or made available to search) or  public (anyone looking at or searching for the gist can see it).\n",
    "\n",
    "### NBViewer\n",
    "\n",
    "As mentioned before providing an [NBViewer](http://nbviewer.jupyter.org) link to your notebook (e.g. wrapping a public Github repo), is a great way to share your work as well as make sure the work looks the way as intended.  Github viewing of notebooks is good, but is not always stable and does not take advantage of the style that is standard in your notebooks.  Use it.  Your collaborators likely won't  be disappointed when you do.\n",
    "\n",
    "### Markdown and HTML\n",
    "\n",
    "Exporting a notebook to Markdown can be valuable when you need to have a version of the  notebook in am environment that only renders Markdown.  For example, you might want to convert the notebook to a format that is more easily rendered on Github or processed by a static site generator such as [Jekyll](https://jekyllrb.com/), [Nikola](https://getnikola.com/), or [Pelican](https://blog.getpelican.com/), among others.  You might also just like to archive your notebook to a text friendly and highly durable format (text files will be with us for a long time yet), and Markdown might definitely be up for that task.\n",
    "\n",
    "Using HTML as an export format is also possible in Jupyter and might be useful when you want to produce HTML pages that would go directly on the web, for example, when hosting you own website.\n",
    "\n",
    "\n",
    "### PDF and Pandoc\n",
    "\n",
    "For sophisticated conversion of notebooks to outputs more suitable for print publication, Jupyter includes an export to PDF format.  This might be useful when making a notebook available to anyone who might need to have printed output or if your notebook ends up being more suitable for publication as a book -- see the wonderful example [_Kalman and Bayesian Filters in Python_](https://github.com/rlabbe/Kalman-and-Bayesian-Filters-in-Python) by Roger Labbe.\n",
    "\n",
    "For conversion to and from other formats not mentioned such as Microsoft Word, $\\LaTeX$ (.tex), XML, AsciiDoc, reStructureText, OpenOffice ODT and many, many others, you might consider learning more about [Pandoc](http://pandoc.org/).  Pandoc is considered the \"swiss army knife\" of document conversion tools and accurately converts to and from many document formats."
   ]
  }
 ],
 "metadata": {
  "kernelspec": {
   "display_name": "Python 3",
   "language": "python",
   "name": "python3"
  },
  "language_info": {
   "codemirror_mode": {
    "name": "ipython",
    "version": 3
   },
   "file_extension": ".py",
   "mimetype": "text/x-python",
   "name": "python",
   "nbconvert_exporter": "python",
   "pygments_lexer": "ipython3",
   "version": "3.6.0"
  },
  "toc": {
   "colors": {
    "hover_highlight": "#DAA520",
    "navigate_num": "#000000",
    "navigate_text": "#333333",
    "running_highlight": "#FF0000",
    "selected_highlight": "#FFD700",
    "sidebar_border": "#EEEEEE",
    "wrapper_background": "#FFFFFF"
   },
   "moveMenuLeft": true,
   "nav_menu": {
    "height": "81px",
    "width": "252px"
   },
   "navigate_menu": true,
   "number_sections": false,
   "sideBar": true,
   "threshold": 4,
   "toc_cell": true,
   "toc_section_display": "block",
   "toc_window_display": true,
   "widenNotebook": false
  }
 },
 "nbformat": 4,
 "nbformat_minor": 2
}
