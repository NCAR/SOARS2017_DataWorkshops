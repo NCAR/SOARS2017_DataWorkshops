{
 "cells": [
  {
   "cell_type": "markdown",
   "metadata": {},
   "source": [
    "# WORKSHOP 1 / Scientific Research Best Practices\n",
    "\n",
    "**OBJECTIVES**\n",
    "\n",
    "* understand tools for exploring scientific inquiries and documenting ideas\n",
    "    * mind mapping\n",
    "    * Jupyter notebooks\n",
    "    * collaborative tools\n",
    "* understand scientific best practices for coding\n",
    "    * open source software\n",
    "    * Github and Jupyter for reproducible and open science\n",
    "    * Python for scientific programming\n",
    "* review attribution  best practices\n",
    "    * citing papers with DOIs\n",
    "    * citing code and data\n",
    "    * using citation management tools like Zotero, Mendeley and Endnote (+ easybib manager in gdocs)\n",
    "---"
   ]
  },
  {
   "cell_type": "markdown",
   "metadata": {},
   "source": [
    "# Scientific Inquiry: From Ideas to Data and Code to Communication\n",
    "\n",
    "As you move through your research career, both during your SOARS summer and in your undergraduate and graduate career, you might notice a pattern that will repeat itself often, and it goes something like this:\n",
    "\n",
    "* you will be working with non-trivial amounts of data that you, someone else or _something else_ generated, \n",
    "* you will have to do something useful with that data including repackage, summarize, reduce, transform and otherwise analyze the data with a computational tool (like a programming language), and \n",
    "* you will need to document and communicate what you did with that data and code in a way that others can understand, reuse, extend and **cite**.  \n",
    "\n",
    "Having a basic workflow for your scientific research requires that you have the supporting tools to maximize your efficiency, minimize your frustration and establish a pattern of repeatable success."
   ]
  },
  {
   "cell_type": "markdown",
   "metadata": {},
   "source": [
    "## Getting Started: Consider organizing by Mind mapping\n",
    "\n",
    "Mind mapping is a technique of visually organizing information into a map representing ideas, concepts, links and relationships among the items in the map.  It is a way to uniquely describe and detail almost any kind of information, but has had a great deal of success in scientific disciplines and helping practitioners organize, recall and share information more effectively. Mind maps are not unlike outlines -- you can certainly produce a linear organization of any content with them, but they also provide non-linear ways of organizing information that might otherwise appear in an outline.  Many people find mind maps to be useful in daily note taking and summarization tasks, but a mind map can be used to organize and represent almost any kind of information. \n",
    "\n",
    "Using mind maps may not be for you, but they are well worth considering since many students, researchers and professionals have had great success using it in their work and capturing complex ideas in ways that would otherwise not be possible.  There is a vast community of resources to help you develop productive strategies with mind maps, and what makes mind maps so flexible is that there is no _right_ way to do them and therefore can be customized to your specific preferences and ways of thinking.\n",
    "\n",
    "There are many tools for mind mapping, but here are a few:\n",
    "\n",
    "* [XMind](http://xmind.net)\n",
    "* [Personal Brain](http://www.thebrain.com)\n",
    "* [MindMeister](http://www.mindmeister.net/)\n",
    "\n",
    "As a starting point in exploring the various software supporting mind mapping, Wikipedia maintains a [list of mind mapping software tools](https://en.wikipedia.org/wiki/List_of_concept-_and_mind-mapping_software) to consider for your budget, operating system and functionality needs.  Many tools offer student / academic discounts, should buying a commercial version be the most appropriate route to take."
   ]
  },
  {
   "cell_type": "markdown",
   "metadata": {},
   "source": [
    "## Open Source Software and Open Science\n",
    "\n",
    "Scientific software and the open source paradigm have been in a long term relationship for some time.  In the early days of software, some of it was free because there wasn't yet a monetization strategy for it, and some of it was open source because the community required the contributions and distributed expertise of others to keep it going. The scientific community has been building open source software for some time, and you are probably using some scientific library in your work right now that is open source or built upon an open source code base.\n",
    "\n",
    "Open science has come into prominence in the recent 5-10 years in part because some communities (Physics, computer science, etc.) are largely built on it, and in part because transparency has been at the heart of many breakthroughs -- communities that have complete access to the results and outcomes of scientific work, much like in software, benefit greatly from a diversity of viewpoints, expertise, criticism and contributions that would otherwise not occur if kept closed. Furthermore, since much of science is funded with public money (i.e. US tax payer dollars are used to operate federal agencies like the National Science Foundation), there is an imperative to make sure that the outcomes of that science (minimally, journal papers and conference presentations) are available to the primary funders (the public) regardless of whether the public benefit from those outcomes.  While papers and presentations are typical outcomes, today many more of the outcomes are data and software -- and unlike papers, such outcomes may be consumed by large numbers of people and even form the basis of software or data upon which important decisions are made.\n",
    "\n",
    "Though there are many reasons why \"open science\" is now front and center in many conversations, science historically at its best is always \"open\".\n",
    "\n",
    "Here are a few places to begin to understand where open science is and where it is going:\n",
    "\n",
    "* http://openscience.org\n",
    "* Center for Open Science: https://cos.io\n",
    "* The Dataverse Project: http://dataverse.org"
   ]
  },
  {
   "cell_type": "markdown",
   "metadata": {},
   "source": [
    "## A Scientific Toolstack: Python, Jupyter and Github\n",
    "\n",
    "The programming language Python has quickly become one of the most important tools in scientific programming today.  The simplicity of the language, coupled with its power and robustness make it ideal for writing scientific software.  There are a number of really good books and websites on Python, but here are a few free and open resources:\n",
    "\n",
    "* [The Hitchhikers Guide to Python](http://docs.python-guide.org/en/latest/), Kenneth Reitz and Tanya Schlusser\n",
    "* [Think Python](http://greenteapress.com/wp/think-python-2e/), Allen B. Downey\n",
    "\n",
    "[Jupyter Notebooks](https://jupyter.org) are a tool gaining rapid attention in the last few years because they support and simplify the exploration of data, while provided an easy way for building narratives around those explorations.  Since much of  scientific inquiry requires an iterative process of exploring data and refining theories to explain that data, thus Jupyter and the data inquiry process have had an interesting courtship.  Out of the box, Jupyter supports Python (and has its origins in the language), but it also supports a number of other languages (R, Julia, Javascript, etc.) and has a promising future to provide deeper support for writing code alongside narratives that explore data.\n",
    "\n",
    "[Github](https://github.com) is the _de facto_ platform for open source software and supports collaborative software building in a powerful and elegant way.  Built on top of the [git](https://git-scm.com) revision control platform, Github provides a way for teams (and individuals) to publicly share their software (or anything else like documentation and websites) so to invite others to enjoy the fruits of their labor, but also to invite contributions from the community more broadly.  As such, Github allows people from anywhere in the world to view, comment on, contribute to or otherwise modify the projects available there.  Making a project open on Github provides a mechanism for others to provide feedback and insights into some aspect of the project, that perhaps the creators had not considered.  This paradigm is unsurprisingly essential to \"open science\".  You can find out about [some of the projects on Github facilitating open science](https://github.com/showcases/science) "
   ]
  },
  {
   "cell_type": "markdown",
   "metadata": {},
   "source": [
    "## Data\n",
    "Much time will be spent (by you or someone else) obtaining data which will form the foundation of a scientific inquiry of your own, your colleagues or your advisors, and it is important for you to understand that keeping track of your data is crucial for structuring your inquiries, getting help with your research and also sharing that research with your community.  Furthermore, it is now commonplace for journals to ask for submitted manuscripts to be accompanied by the data associated with it, where laws or other protections (such as privacy, copyright, etc.) don't prevent it.  Much of scientific data today is open (or encouraged to be) and as such promotes trust, reproducibility and traceability.\n",
    "\n",
    "Here are a few tips on using, creating data:\n",
    "\n",
    "> Always provide attribution of the data source (your own or someone else's).\n",
    "\n",
    "Attribution of data may come in the form of a URL, but it might (and increasingly so) come in the form of a [DOI (Digital Object Identifier)](http://www.apastyle.org/learn/faqs/what-is-doi.aspx).  Learn more about [the history of using and assigning DOIs to data sets](http://dlib.org/dlib/january15/brase/01brase.html), and also about the tools [Datacite](http://www.datacite.org/), [Figshare](http://figshare.com/) and [Zenodo](http://zenodo.org/).  **Ask your campus or department** librarian to find out if your institution has a repository for the deposit of data and what the policies are for doing so.\n",
    "\n",
    "> When using open data, reference the subset and any additional details of the data necessary for someone else to understand how to replicate your work.\n",
    "\n",
    "If you're using a particularly large dataset, be clear about the subset of data being used (and if possible) provide a link to that subset, so others are able to understand the data you used in your work.  This isn't just for others, it is for you -- in as little as a year, you may have forgotten completely about the details of an analysis and the corresponding data.\n",
    "\n",
    "> Keep your data close to your code, when at all possible.\n",
    "\n",
    "When writing code to analyze data, when you can, make sure your code and data are close enough to work offline or bundle when necessary (to send to a collaborator, submit to a journal, etc.)  While this may not be possible in all cases, especially those involving very large data sets or data sets on servers requiring authentication, do what you can to keep the analysis you're doing close to the data, not only will it increase the convenience of data processing, it will be easier to have a copy of remote data in the event that something changes on a remote location unexpectedly or the data is unavailable\n",
    "\n",
    "> Encourage others to make their software and data open and available.\n",
    "\n",
    "When working in a group, encourage your team to deposit their data into group-accessible locations (preferably open) that are available to others.  If teams building software use Github, even private repositories can be made available to groups, and even made completely open at a later date when \n",
    "\n",
    "> Mint DOIs for datasets and software as much as possible.\n",
    "\n",
    "Minting a DOI for software and data make such assets more easily traceable and encourage the behavior in others.  Without links back to the original dataset and working software, building on your results (or the results of others) is more difficult.\n"
   ]
  },
  {
   "cell_type": "markdown",
   "metadata": {},
   "source": [
    "## Code\n",
    "It is likely that you will produce some non-trivial code at some point during your graduate career.  It may also be the case that this code represents the foundation of your research.  Whichever the case, there are some coding best practices to follow as early in your graduate career as possible.  Here are a few :\n",
    "\n",
    "> **_Use revision (version) control systems like `git` to keep track of code changes_**\n",
    "\n",
    "Revision control systems are designed to help you keep track of changes when you update code and documents.  They allow you to see what changes were made in a file, by whom and when.  This is often important when trying to determine who fixed a critical issue in code or what changes were introduced into the code that might have altered functionality (both good changes and bad ones).  But these systems are not restricted to teams or large and complex code bases.  You can put any text file under revision control an actually gain some interested benefits on the history of that file (binary files can be put under control but their changes cannot sensibly be compared).\n",
    "\n",
    "> **_Keep track of the operating systems, version of the language and libraries used for future reference, and use virtualization and container technologies as appropriate_**\n",
    "\n",
    "When writing code for your research, the operating system and language you're using might go through several revisions by the time you start and end graduate school!  This also means that during the course of your work, whatever version you are working on needs to be clearly documented.  Technologies like [virtual machines](https://en.wikipedia.org/wiki/Virtual_machine) (e.g. VMWare, VirtualBox, Azure, AwS Cloud, etc.) and container platforms like [Docker](https://www.docker.com/) can ease the burden of configuring, replicating, sharing and tracking the various operating systems and software versions used in your research so that you can be certain the right configurations exist to run your code.\n",
    "\n",
    "> **_Use README files_**\n",
    "\n",
    "README files are a great way to document what you're doing, and critical as your files get larger, more complex and involve greater functionality.  Spending just a little time to keep README files up to date can go a long way for others picking up your work, or for yourself if you have an unexpected break in the work you're doing.\n",
    "\n",
    "> **_Start coding with Jupyter Notebook, or wrap some documentation for your code in one_**\n",
    "\n",
    "Some of the suggestions above can be greatly improved when using a tool like Jupyter.  For example, the versions and contents of README can be _part_ of the notebook.  While Notebooks at the current moment offer limited debugging support, watch for the coming official release of [Jupyter Labs]() which promises to offer some significant enhancements in support .\n",
    "\n",
    "> **_Write code for readability, simplicity and be able to explain the code that you both write and use_**\n",
    "\n",
    "Working in teams requires a commitment to communication and code is an important part of that communication.  Any code you write, make sure it is readable and follows basic documentation standards (e.g. comments, function naming conventions, etc.) -- you will appreciate this through your graduate school years and so will your colleagues and collaborators looking to build upon your work."
   ]
  },
  {
   "cell_type": "markdown",
   "metadata": {},
   "source": [
    "## Attribution tools and licensing\n",
    "\n",
    "Though there are many tools for building bibliographies for research publications, a few popular tools are doing so are listed here.\n",
    "\n",
    "* [Zotero](https://www.zotero.org/), \n",
    "* [Mendeley](https://www.mendeley.com/), and \n",
    "* [Endnote](http://endnote.com/)\n",
    "\n",
    "are all good tools to store, share and generate bibliographies of papers.  Learn to use them!  You can even use these tools in conjuction with mind mapping to take the relationships between papers and ideas to the next level.  \n",
    "\n",
    "When citing papers (and your management tools should be doing this for you), try to include the DOI of the paper when it is available.  For example, you citation with the DOI might look like this:\n",
    "\n",
    "* Brownlie, D. (2007). Toward effective poster presentations: An annotated bibliography. _European Journal of Marketing_, 41, 1245-1283. **doi:10.1108/03090560710821161**\n",
    "\n",
    "Including the DOI in your citation makes the contents of your citations more easily available to tools the index and link these resources together.\n",
    "\n",
    "**LICENSES**\n",
    "\n",
    "Learn about various licenses for sofware ([there are many open-source licenses to consider](https://opensource.org/licenses/)).  You should also understand [Creative Commons](https://creativecommons.org) licenses and how they fit into your work and the goals of making digital content open, public and reusable.  When using others' data and software _always understand the licenses of their work_."
   ]
  },
  {
   "cell_type": "markdown",
   "metadata": {},
   "source": [
    "## Basic organization and team communication\n",
    "\n",
    "Organizing your ideas and your work are essential to your success in grad school and beyond.  There are many tools for getting work done -- from simple list management tools to documents to project management tools.  Keeping a simple Google/Word document of your ideas and the evolution of your thoughts is a great start.  If you are required to organize more complex tasks, consider a free tool like [Trello](https://trello.com) can greatly reduce the complexity of group work (and can even be useful for personal work).\n",
    "\n",
    "Communicating ideas (before paper writing) is also an important part of your responsibilities as a graduate student.  Consider a free platform like [Slack](https://slack.com) to facilitate communication with your group -- it has a number of features that integrate with Google Docs, Github, Trello and others -- and the mobile app for it provides a way to stay in touch on the go.\n"
   ]
  },
  {
   "cell_type": "markdown",
   "metadata": {},
   "source": [
    "## Search databases \n",
    "\n",
    "Use your university website to understand the scores of databases they subscribe to that provide you access to research, abstracts, data, digital assets, etc.  **Use them** ... your tuition has paid a big part of the bill to make them available to you!\n",
    "\n",
    "Here are a few that may be valuable for broad preliminary searches:\n",
    "\n",
    "* [ScienceDirect by Elsevier](http://www.sciencedirect.com)\n",
    "* [Web of Science by Thomson Reuters](http://apps.webofknowledge.com/)\n",
    "* [GEORef by EBSCO](https://www.ebscohost.com/academic/georef)\n",
    "* [Environmental Science Database, by CABI Publishing](http://www.cabi.org/publishing-products/online-information-resources/environmental-science-database/)\n",
    "* [AGU Abstract Database](https://meetings.agu.org/abstract_db/)\n",
    "* [Google Scholar](https://scholar.google.com)"
   ]
  }
 ],
 "metadata": {
  "anaconda-cloud": {},
  "kernelspec": {
   "display_name": "Python 3",
   "language": "python",
   "name": "python3"
  },
  "language_info": {
   "codemirror_mode": {
    "name": "ipython",
    "version": 3
   },
   "file_extension": ".py",
   "mimetype": "text/x-python",
   "name": "python",
   "nbconvert_exporter": "python",
   "pygments_lexer": "ipython3",
   "version": "3.6.0"
  },
  "toc": {
   "colors": {
    "hover_highlight": "#DAA520",
    "navigate_num": "#000000",
    "navigate_text": "#333333",
    "running_highlight": "#FF0000",
    "selected_highlight": "#FFD700",
    "sidebar_border": "#EEEEEE",
    "wrapper_background": "#FFFFFF"
   },
   "moveMenuLeft": true,
   "nav_menu": {
    "height": "67px",
    "width": "252px"
   },
   "navigate_menu": true,
   "number_sections": false,
   "sideBar": true,
   "threshold": 4,
   "toc_cell": false,
   "toc_section_display": "block",
   "toc_window_display": false,
   "widenNotebook": false
  }
 },
 "nbformat": 4,
 "nbformat_minor": 2
}
